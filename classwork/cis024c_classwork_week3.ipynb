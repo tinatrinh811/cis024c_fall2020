{
 "cells": [
  {
   "cell_type": "markdown",
   "metadata": {},
   "source": [
    "## Variables"
   ]
  },
  {
   "cell_type": "code",
   "execution_count": 1,
   "metadata": {},
   "outputs": [],
   "source": [
    "x = 10\n",
    "y = 15"
   ]
  },
  {
   "cell_type": "code",
   "execution_count": 2,
   "metadata": {},
   "outputs": [
    {
     "name": "stdout",
     "output_type": "stream",
     "text": [
      "10\n"
     ]
    }
   ],
   "source": [
    "print(x)"
   ]
  },
  {
   "cell_type": "code",
   "execution_count": 3,
   "metadata": {},
   "outputs": [
    {
     "name": "stdout",
     "output_type": "stream",
     "text": [
      "15\n"
     ]
    }
   ],
   "source": [
    "print(y)"
   ]
  },
  {
   "cell_type": "code",
   "execution_count": 4,
   "metadata": {},
   "outputs": [],
   "source": [
    "z = x + y"
   ]
  },
  {
   "cell_type": "code",
   "execution_count": 5,
   "metadata": {},
   "outputs": [
    {
     "name": "stdout",
     "output_type": "stream",
     "text": [
      "25\n"
     ]
    }
   ],
   "source": [
    "print(z)"
   ]
  },
  {
   "cell_type": "code",
   "execution_count": 6,
   "metadata": {},
   "outputs": [],
   "source": [
    "x = 25"
   ]
  },
  {
   "cell_type": "code",
   "execution_count": 7,
   "metadata": {},
   "outputs": [],
   "source": [
    "z = x + y"
   ]
  },
  {
   "cell_type": "code",
   "execution_count": 8,
   "metadata": {},
   "outputs": [
    {
     "name": "stdout",
     "output_type": "stream",
     "text": [
      "40\n"
     ]
    }
   ],
   "source": [
    "print(z)"
   ]
  },
  {
   "cell_type": "markdown",
   "metadata": {},
   "source": [
    "## Conditionals"
   ]
  },
  {
   "cell_type": "code",
   "execution_count": 11,
   "metadata": {},
   "outputs": [],
   "source": [
    "x = 5"
   ]
  },
  {
   "cell_type": "code",
   "execution_count": 12,
   "metadata": {},
   "outputs": [
    {
     "name": "stdout",
     "output_type": "stream",
     "text": [
      "x is equal to 5\n"
     ]
    }
   ],
   "source": [
    "if x == 5:\n",
    "    print(\"x is equal to 5\")\n",
    "else:\n",
    "    print(\"x is not equal to 5\")"
   ]
  },
  {
   "cell_type": "code",
   "execution_count": 13,
   "metadata": {},
   "outputs": [
    {
     "name": "stdout",
     "output_type": "stream",
     "text": [
      "x is 5 or 15\n"
     ]
    }
   ],
   "source": [
    "if x == 5 or x == 15:\n",
    "    print(\"x is 5 or 15\")\n",
    "else:\n",
    "    print(\"x is neither 5 nor 15\")"
   ]
  },
  {
   "cell_type": "code",
   "execution_count": 16,
   "metadata": {},
   "outputs": [],
   "source": [
    "x = 10"
   ]
  },
  {
   "cell_type": "code",
   "execution_count": 17,
   "metadata": {},
   "outputs": [
    {
     "name": "stdout",
     "output_type": "stream",
     "text": [
      "x is not 5 or y is not 15\n"
     ]
    }
   ],
   "source": [
    "if x == 5 and y == 15:\n",
    "    print(\"x is 5 and y is 15\")\n",
    "else:\n",
    "    print(\"x is not 5 or y is not 15\")"
   ]
  },
  {
   "cell_type": "code",
   "execution_count": 15,
   "metadata": {},
   "outputs": [
    {
     "name": "stdout",
     "output_type": "stream",
     "text": [
      "5 15\n"
     ]
    }
   ],
   "source": [
    "print(x,y)"
   ]
  },
  {
   "cell_type": "code",
   "execution_count": 20,
   "metadata": {},
   "outputs": [],
   "source": [
    "x = 5"
   ]
  },
  {
   "cell_type": "code",
   "execution_count": 23,
   "metadata": {},
   "outputs": [
    {
     "name": "stdout",
     "output_type": "stream",
     "text": [
      "x is  equal to 5 \n"
     ]
    }
   ],
   "source": [
    "if not x == 5:\n",
    "    print(\"x is not equal to 5\")\n",
    "else:\n",
    "    print(\"x is  equal to 5 \")"
   ]
  },
  {
   "cell_type": "markdown",
   "metadata": {},
   "source": [
    "## Loops / Iterations"
   ]
  },
  {
   "cell_type": "code",
   "execution_count": 26,
   "metadata": {},
   "outputs": [
    {
     "name": "stdout",
     "output_type": "stream",
     "text": [
      "Try to guess the number:10\n",
      "Sorry, do you want to try again?\n"
     ]
    }
   ],
   "source": [
    "guess = 20\n",
    "\n",
    "number = int(input(\"Try to guess the number:\"))\n",
    "\n",
    "if number == 20:\n",
    "    print(\"Yayyy!! you guessed it right!\")\n",
    "else:\n",
    "    print(\"Sorry, do you want to try again?\")"
   ]
  },
  {
   "cell_type": "code",
   "execution_count": 27,
   "metadata": {},
   "outputs": [
    {
     "name": "stdout",
     "output_type": "stream",
     "text": [
      "Try to guess the number:30\n",
      "Sorry, do you want to try again?\n"
     ]
    }
   ],
   "source": [
    "number = int(input(\"Try to guess the number:\"))\n",
    "\n",
    "if number == 20:\n",
    "    print(\"Yayyy!! you guessed it right!\")\n",
    "else:\n",
    "    print(\"Sorry, do you want to try again?\")"
   ]
  },
  {
   "cell_type": "code",
   "execution_count": 28,
   "metadata": {},
   "outputs": [
    {
     "name": "stdout",
     "output_type": "stream",
     "text": [
      "Try to guess the number:45\n",
      "Sorry, do you want to try again?\n"
     ]
    }
   ],
   "source": [
    "number = int(input(\"Try to guess the number:\"))\n",
    "\n",
    "if number == 20:\n",
    "    print(\"Yayyy!! you guessed it right!\")\n",
    "else:\n",
    "    print(\"Sorry, do you want to try again?\")\n",
    "    "
   ]
  },
  {
   "cell_type": "markdown",
   "metadata": {},
   "source": [
    "### Iterate using while"
   ]
  },
  {
   "cell_type": "code",
   "execution_count": 31,
   "metadata": {},
   "outputs": [
    {
     "name": "stdout",
     "output_type": "stream",
     "text": [
      "Try to guess the number:20\n",
      "Please try again\n",
      "Guess is: 20\n",
      "Try to guess the number:10\n",
      "Yayyy!! you guessed it right!\n"
     ]
    }
   ],
   "source": [
    "guess = 10\n",
    "\n",
    "while True:\n",
    "    number = int(input(\"Try to guess the number:\"))\n",
    "\n",
    "    if number == guess:\n",
    "        print(\"Yayyy!! you guessed it right!\")\n",
    "        break\n",
    "    else:\n",
    "        print(\"Please try again\")\n",
    "        # continue\n",
    "        \n",
    "    ### something here\n",
    "    print(\"Guess is:\", number)\n",
    "    "
   ]
  },
  {
   "cell_type": "code",
   "execution_count": 32,
   "metadata": {},
   "outputs": [
    {
     "name": "stdout",
     "output_type": "stream",
     "text": [
      "Try to guess the number:20\n",
      "Try to guess the number:10\n",
      "Yayyy!! you guessed it right!\n"
     ]
    }
   ],
   "source": [
    "guess = 10\n",
    "number = 0\n",
    "\n",
    "while number != guess:\n",
    "    number = int(input(\"Try to guess the number:\"))\n",
    "\n",
    "    if number == guess:\n",
    "        print(\"Yayyy!! you guessed it right!\")\n",
    "        break\n",
    "    "
   ]
  },
  {
   "cell_type": "markdown",
   "metadata": {},
   "source": [
    "### Iterate using a for loop"
   ]
  },
  {
   "cell_type": "code",
   "execution_count": 36,
   "metadata": {},
   "outputs": [
    {
     "name": "stdout",
     "output_type": "stream",
     "text": [
      "0\n",
      "hello\n",
      "1\n",
      "hello\n",
      "2\n",
      "hello\n",
      "3\n",
      "hello\n",
      "4\n",
      "hello\n",
      "5\n",
      "hello\n",
      "6\n",
      "hello\n",
      "7\n",
      "hello\n",
      "8\n",
      "hello\n",
      "9\n",
      "hello\n"
     ]
    }
   ],
   "source": [
    "for i in range(10):\n",
    "    print(i)\n",
    "    print(\"hello\")"
   ]
  },
  {
   "cell_type": "code",
   "execution_count": 35,
   "metadata": {},
   "outputs": [
    {
     "data": {
      "text/plain": [
       "[0, 1, 2, 3, 4, 5, 6, 7, 8, 9]"
      ]
     },
     "execution_count": 35,
     "metadata": {},
     "output_type": "execute_result"
    }
   ],
   "source": [
    "list(range(10))"
   ]
  },
  {
   "cell_type": "code",
   "execution_count": 37,
   "metadata": {},
   "outputs": [
    {
     "name": "stdout",
     "output_type": "stream",
     "text": [
      "Enter employee name:Sanjay\n",
      "Sanjay\n",
      "Enter employee name:Ajay\n",
      "Ajay\n",
      "Enter employee name:Bob\n",
      "Bob\n"
     ]
    }
   ],
   "source": [
    "for i in range(3):\n",
    "    name = input(\"Enter employee name:\")\n",
    "    \n",
    "    print(name)"
   ]
  },
  {
   "cell_type": "markdown",
   "metadata": {},
   "source": [
    "## Strings"
   ]
  },
  {
   "cell_type": "code",
   "execution_count": 21,
   "metadata": {},
   "outputs": [],
   "source": [
    "name = \"Sanjay Dorairaj\""
   ]
  },
  {
   "cell_type": "code",
   "execution_count": 22,
   "metadata": {},
   "outputs": [
    {
     "data": {
      "text/plain": [
       "'Sanjay Dorairaj'"
      ]
     },
     "execution_count": 22,
     "metadata": {},
     "output_type": "execute_result"
    }
   ],
   "source": [
    "name"
   ]
  },
  {
   "cell_type": "code",
   "execution_count": 23,
   "metadata": {},
   "outputs": [
    {
     "name": "stdout",
     "output_type": "stream",
     "text": [
      "Sanjay Dorairaj\n"
     ]
    }
   ],
   "source": [
    "print(name)"
   ]
  },
  {
   "cell_type": "code",
   "execution_count": 30,
   "metadata": {},
   "outputs": [
    {
     "name": "stdout",
     "output_type": "stream",
     "text": [
      "Enter your full name:Sanjay Dorairaj\n",
      "Sanjay Dorairaj\n"
     ]
    }
   ],
   "source": [
    "name = input(\"Enter your full name:\")\n",
    "print(name)"
   ]
  },
  {
   "cell_type": "code",
   "execution_count": 36,
   "metadata": {},
   "outputs": [],
   "source": [
    "names = [\"Bob Chapin\",\"Tina Fey\", \"Harry Truman\"]"
   ]
  },
  {
   "cell_type": "code",
   "execution_count": 38,
   "metadata": {},
   "outputs": [
    {
     "name": "stdout",
     "output_type": "stream",
     "text": [
      "First Name:       Bob, Last Name:    Chapin\n",
      "First Name:      Tina, Last Name:       Fey\n",
      "First Name:     Harry, Last Name:    Truman\n"
     ]
    }
   ],
   "source": [
    "for name in names:\n",
    "    \n",
    "    split_name = name.split(' ')\n",
    "    \n",
    "    print(\"First Name:%10s, Last Name:%10s\"% (split_name[0], split_name[1]))"
   ]
  },
  {
   "cell_type": "code",
   "execution_count": 32,
   "metadata": {},
   "outputs": [],
   "source": [
    "numbers = [1,2,3,4,5]"
   ]
  },
  {
   "cell_type": "code",
   "execution_count": 33,
   "metadata": {},
   "outputs": [
    {
     "data": {
      "text/plain": [
       "[1, 2, 3, 4, 5]"
      ]
     },
     "execution_count": 33,
     "metadata": {},
     "output_type": "execute_result"
    }
   ],
   "source": [
    "numbers"
   ]
  },
  {
   "cell_type": "code",
   "execution_count": 34,
   "metadata": {},
   "outputs": [
    {
     "data": {
      "text/plain": [
       "['Sanjay', 'Dorairaj']"
      ]
     },
     "execution_count": 34,
     "metadata": {},
     "output_type": "execute_result"
    }
   ],
   "source": [
    "split_name"
   ]
  },
  {
   "cell_type": "code",
   "execution_count": 35,
   "metadata": {},
   "outputs": [
    {
     "data": {
      "text/plain": [
       "'Dorairaj'"
      ]
     },
     "execution_count": 35,
     "metadata": {},
     "output_type": "execute_result"
    }
   ],
   "source": [
    "split_name[1]"
   ]
  },
  {
   "cell_type": "code",
   "execution_count": 51,
   "metadata": {},
   "outputs": [
    {
     "name": "stdout",
     "output_type": "stream",
     "text": [
      "First Name: Bob\n",
      "Last Name: Chapin\n"
     ]
    }
   ],
   "source": [
    "print(\"First Name:\", split_name[0])\n",
    "print(\"Last Name:\", split_name[1])"
   ]
  },
  {
   "cell_type": "code",
   "execution_count": 52,
   "metadata": {},
   "outputs": [],
   "source": [
    "first_name = split_name[0]\n",
    "last_name = split_name[1]"
   ]
  },
  {
   "cell_type": "code",
   "execution_count": 53,
   "metadata": {},
   "outputs": [
    {
     "name": "stdout",
     "output_type": "stream",
     "text": [
      "Bob Chapin\n"
     ]
    }
   ],
   "source": [
    "print(first_name, last_name)"
   ]
  },
  {
   "cell_type": "code",
   "execution_count": 54,
   "metadata": {},
   "outputs": [
    {
     "data": {
      "text/plain": [
       "'Bob'"
      ]
     },
     "execution_count": 54,
     "metadata": {},
     "output_type": "execute_result"
    }
   ],
   "source": [
    "first_name\n"
   ]
  },
  {
   "cell_type": "code",
   "execution_count": 55,
   "metadata": {},
   "outputs": [
    {
     "data": {
      "text/plain": [
       "'bob'"
      ]
     },
     "execution_count": 55,
     "metadata": {},
     "output_type": "execute_result"
    }
   ],
   "source": [
    "first_name.lower()"
   ]
  },
  {
   "cell_type": "code",
   "execution_count": 60,
   "metadata": {},
   "outputs": [
    {
     "name": "stdout",
     "output_type": "stream",
     "text": [
      "Enter your first name:bob\n",
      "Yippee! Found Bob!\n"
     ]
    }
   ],
   "source": [
    "name_to_find = \"Bob\"\n",
    "\n",
    "while True:\n",
    "    \n",
    "    first_name = input(\"Enter your first name:\")\n",
    "    \n",
    "    if first_name.lower() == name_to_find.lower():\n",
    "        print(\"Yippee! Found Bob!\")\n",
    "        break\n",
    "    else:\n",
    "        print(\"Next please...\")\n",
    "        continue"
   ]
  },
  {
   "cell_type": "markdown",
   "metadata": {},
   "source": [
    "### String Indexing"
   ]
  },
  {
   "cell_type": "code",
   "execution_count": 61,
   "metadata": {},
   "outputs": [],
   "source": [
    "something = \"potato\""
   ]
  },
  {
   "cell_type": "code",
   "execution_count": 62,
   "metadata": {},
   "outputs": [
    {
     "data": {
      "text/plain": [
       "'p'"
      ]
     },
     "execution_count": 62,
     "metadata": {},
     "output_type": "execute_result"
    }
   ],
   "source": [
    "something[0]"
   ]
  },
  {
   "cell_type": "code",
   "execution_count": 63,
   "metadata": {},
   "outputs": [
    {
     "data": {
      "text/plain": [
       "6"
      ]
     },
     "execution_count": 63,
     "metadata": {},
     "output_type": "execute_result"
    }
   ],
   "source": [
    "len(something)"
   ]
  },
  {
   "cell_type": "code",
   "execution_count": 66,
   "metadata": {},
   "outputs": [
    {
     "name": "stdout",
     "output_type": "stream",
     "text": [
      "p\n",
      "o\n",
      "t\n",
      "a\n",
      "t\n",
      "o\n"
     ]
    }
   ],
   "source": [
    "for i in range(len(something)):\n",
    "    print(something[i])\n",
    "    "
   ]
  },
  {
   "cell_type": "code",
   "execution_count": 68,
   "metadata": {},
   "outputs": [
    {
     "data": {
      "text/plain": [
       "'pot'"
      ]
     },
     "execution_count": 68,
     "metadata": {},
     "output_type": "execute_result"
    }
   ],
   "source": [
    "something[0:3]"
   ]
  },
  {
   "cell_type": "code",
   "execution_count": 71,
   "metadata": {},
   "outputs": [
    {
     "data": {
      "text/plain": [
       "'pa'"
      ]
     },
     "execution_count": 71,
     "metadata": {},
     "output_type": "execute_result"
    }
   ],
   "source": [
    "something[::3]"
   ]
  },
  {
   "cell_type": "markdown",
   "metadata": {},
   "source": [
    "### Is the word an anagram"
   ]
  },
  {
   "cell_type": "code",
   "execution_count": 72,
   "metadata": {},
   "outputs": [],
   "source": [
    "word = \"racecar\""
   ]
  },
  {
   "cell_type": "code",
   "execution_count": 73,
   "metadata": {},
   "outputs": [],
   "source": [
    "word = \"hello\""
   ]
  },
  {
   "cell_type": "code",
   "execution_count": 76,
   "metadata": {},
   "outputs": [
    {
     "data": {
      "text/plain": [
       "'olleh'"
      ]
     },
     "execution_count": 76,
     "metadata": {},
     "output_type": "execute_result"
    }
   ],
   "source": [
    "word[::-1]"
   ]
  },
  {
   "cell_type": "code",
   "execution_count": 82,
   "metadata": {},
   "outputs": [
    {
     "name": "stdout",
     "output_type": "stream",
     "text": [
      "Enter a word to check for anagram:Bob\n",
      "the word is an anagram\n"
     ]
    }
   ],
   "source": [
    "word = input(\"Enter a word to check for anagram:\")\n",
    "if word.lower() == word[::-1].lower():\n",
    "    print(\"the word is an anagram\")\n",
    "else:\n",
    "    print(\"the word is not an anagram\")"
   ]
  },
  {
   "cell_type": "code",
   "execution_count": 83,
   "metadata": {},
   "outputs": [],
   "source": [
    "paragraph = \"WILMINGTON, Del./MCLELLAN PARK, Calif. (Reuters) - Joe Biden branded President Donald Trump a “climate arsonist” on Monday for refusing to acknowledge global warming’s role in deadly wildfires sweeping the western United States, while Trump blamed lax forestry and declared, “I don’t think science knows.”\""
   ]
  },
  {
   "cell_type": "code",
   "execution_count": 84,
   "metadata": {},
   "outputs": [
    {
     "name": "stdout",
     "output_type": "stream",
     "text": [
      "WILMINGTON, Del./MCLELLAN PARK, Calif. (Reuters) - Joe Biden branded President Donald Trump a “climate arsonist” on Monday for refusing to acknowledge global warming’s role in deadly wildfires sweeping the western United States, while Trump blamed lax forestry and declared, “I don’t think science knows.”\n"
     ]
    }
   ],
   "source": [
    "print(paragraph)"
   ]
  },
  {
   "cell_type": "code",
   "execution_count": 85,
   "metadata": {},
   "outputs": [
    {
     "data": {
      "text/plain": [
       "55"
      ]
     },
     "execution_count": 85,
     "metadata": {},
     "output_type": "execute_result"
    }
   ],
   "source": [
    "paragraph.find(\"Biden\")"
   ]
  },
  {
   "cell_type": "code",
   "execution_count": 86,
   "metadata": {},
   "outputs": [
    {
     "data": {
      "text/plain": [
       "'Biden'"
      ]
     },
     "execution_count": 86,
     "metadata": {},
     "output_type": "execute_result"
    }
   ],
   "source": [
    "paragraph[55:55+5]"
   ]
  },
  {
   "cell_type": "code",
   "execution_count": 87,
   "metadata": {},
   "outputs": [
    {
     "data": {
      "text/plain": [
       "-1"
      ]
     },
     "execution_count": 87,
     "metadata": {},
     "output_type": "execute_result"
    }
   ],
   "source": [
    "paragraph.find(\"Clinton\")"
   ]
  },
  {
   "cell_type": "code",
   "execution_count": 88,
   "metadata": {},
   "outputs": [
    {
     "data": {
      "text/plain": [
       "55"
      ]
     },
     "execution_count": 88,
     "metadata": {},
     "output_type": "execute_result"
    }
   ],
   "source": [
    "paragraph.find(\"Biden\")"
   ]
  },
  {
   "cell_type": "code",
   "execution_count": 89,
   "metadata": {},
   "outputs": [],
   "source": [
    "?paragraph.find"
   ]
  },
  {
   "cell_type": "code",
   "execution_count": 92,
   "metadata": {},
   "outputs": [],
   "source": [
    "new_para = \"Dozens of conflagrations have raged with unprecedented scope across some 4.5 million acres (1.8 million hectares) in Oregon, California and Washington state since August, laying waste to several small towns, destroying thousands of homes and killing at least 36 people.\\\n",
    "The fires also have filled the region’s air with harmful levels of smoke and soot, bathing skies in eerie tones of orange and sepia while adding to a public health crisis already posed by the coronavirus pandemic.\\\n",
    "Ten deaths have been confirmed during the past week in Oregon, the latest flashpoint in a larger summer outbreak of fires accompanied by catastrophic lightning storms, record-breaking heat waves and bouts of extreme winds.\\\n",
    "Those incendiary conditions gave way over the weekend to cooler, moister weather and calmer winds, enabling weary firefighters to gain ground in efforts to outflank blazes that had burned largely unchecked last week.\\\n",
    "Fire managers cautioned that the battle was hardly over. Thunderstorms forecast for later in the week could bring much-needed rain but also more lightning. Officials also braced for a rise in the death toll.\\\n",
    "As disaster teams scoured the ruins of dwellings engulfed by flames amid chaotic evacuations last week, Oregon’s emergency management authorities said they had yet to account for 22 people reported missing in the fires.\\\n",
    "At least 25 people have perished in California wildfires since mid-August, and one fatality has been confirmed in Washington state. More than 6,200 homes and other structures have been lost, according to figures from all three states.\""
   ]
  },
  {
   "cell_type": "code",
   "execution_count": 93,
   "metadata": {},
   "outputs": [
    {
     "data": {
      "text/plain": [
       "'Dozens of conflagrations have raged with unprecedented scope across some 4.5 million acres (1.8 million hectares) in Oregon, California and Washington state since August, laying waste to several small towns, destroying thousands of homes and killing at least 36 people.The fires also have filled the region’s air with harmful levels of smoke and soot, bathing skies in eerie tones of orange and sepia while adding to a public health crisis already posed by the coronavirus pandemic.Ten deaths have been confirmed during the past week in Oregon, the latest flashpoint in a larger summer outbreak of fires accompanied by catastrophic lightning storms, record-breaking heat waves and bouts of extreme winds.Those incendiary conditions gave way over the weekend to cooler, moister weather and calmer winds, enabling weary firefighters to gain ground in efforts to outflank blazes that had burned largely unchecked last week.Fire managers cautioned that the battle was hardly over. Thunderstorms forecast for later in the week could bring much-needed rain but also more lightning. Officials also braced for a rise in the death toll.As disaster teams scoured the ruins of dwellings engulfed by flames amid chaotic evacuations last week, Oregon’s emergency management authorities said they had yet to account for 22 people reported missing in the fires.At least 25 people have perished in California wildfires since mid-August, and one fatality has been confirmed in Washington state. More than 6,200 homes and other structures have been lost, according to figures from all three states.'"
      ]
     },
     "execution_count": 93,
     "metadata": {},
     "output_type": "execute_result"
    }
   ],
   "source": [
    "new_para"
   ]
  },
  {
   "cell_type": "code",
   "execution_count": 106,
   "metadata": {},
   "outputs": [
    {
     "data": {
      "text/plain": [
       "455"
      ]
     },
     "execution_count": 106,
     "metadata": {},
     "output_type": "execute_result"
    }
   ],
   "source": [
    "len(\"Dozens of conflagrations have raged with unprecedented scope across some 4.5 million acres (1.8 million hectares) in Oregon, California and Washington state since August, laying waste to several small towns, destroying thousands of homes and killing at least 36 people.The fires also have filled the region’s air with harmful levels of smoke and soot, bathing skies in eerie tones of orange and sepia while adding to a public health crisis already posed b\")"
   ]
  },
  {
   "cell_type": "code",
   "execution_count": 97,
   "metadata": {},
   "outputs": [
    {
     "data": {
      "text/plain": [
       "454"
      ]
     },
     "execution_count": 97,
     "metadata": {},
     "output_type": "execute_result"
    }
   ],
   "source": [
    "new_para.find('by')"
   ]
  },
  {
   "cell_type": "code",
   "execution_count": 116,
   "metadata": {},
   "outputs": [
    {
     "data": {
      "text/plain": [
       "1580"
      ]
     },
     "execution_count": 116,
     "metadata": {},
     "output_type": "execute_result"
    }
   ],
   "source": [
    "len(new_para)"
   ]
  },
  {
   "cell_type": "code",
   "execution_count": 117,
   "metadata": {},
   "outputs": [
    {
     "data": {
      "text/plain": [
       "-1"
      ]
     },
     "execution_count": 117,
     "metadata": {},
     "output_type": "execute_result"
    }
   ],
   "source": [
    "new_para[1500:].find('by')"
   ]
  },
  {
   "cell_type": "code",
   "execution_count": 126,
   "metadata": {},
   "outputs": [
    {
     "name": "stdout",
     "output_type": "stream",
     "text": [
      "word index: 454\n",
      "last word index: 454\n",
      "last word index in else: 454\n",
      "Do you want to continue:yes\n",
      "word index: 161\n",
      "last word index: 616\n",
      "last word index in else: 616\n",
      "Do you want to continue:yes\n",
      "word index: 568\n",
      "last word index: 1185\n",
      "last word index in else: 1185\n",
      "Do you want to continue:yes\n",
      "word index: -1\n",
      "last word index: 1185\n",
      "No more words to search\n",
      "Number of times word was found is: 3\n"
     ]
    }
   ],
   "source": [
    "count = 0\n",
    "last_word_index = -1\n",
    "\n",
    "while True:\n",
    "    \n",
    "    word_index = new_para[last_word_index+1:].find(\"by\")\n",
    "    last_word_index = last_word_index + word_index + 1\n",
    "    \n",
    "    print(\"word index:\", word_index)\n",
    "    print(\"last word index:\",last_word_index)\n",
    "    \n",
    "    if word_index == -1:\n",
    "        print(\"No more words to search\")\n",
    "        break\n",
    "    else:\n",
    "        print(\"last word index in else:\",last_word_index)\n",
    "        count = count + 1\n",
    "        \n",
    "    if input(\"Do you want to continue:\") == \"yes\":\n",
    "        continue\n",
    "    else:\n",
    "        break\n",
    "        \n",
    "print(\"Number of times word was found is:\", count)\n",
    "        \n",
    "    \n",
    "    \n",
    "    \n",
    "    "
   ]
  },
  {
   "cell_type": "code",
   "execution_count": 109,
   "metadata": {},
   "outputs": [
    {
     "data": {
      "text/plain": [
       "'Dozens of conflagrations have raged with unprecedented scope across some 4.5 million acres (1.8 million hectares) in Oregon, California and Washington state since August, laying waste to several small towns, destroying thousands of homes and killing at least 36 people.The fires also have filled the region’s air with harmful levels of smoke and soot, bathing skies in eerie tones of orange and sepia while adding to a public health crisis already posed by the coronavirus pandemic.Ten deaths have been confirmed during the past week in Oregon, the latest flashpoint in a larger summer outbreak of fires accompanied by catastrophic lightning storms, record-breaking heat waves and bouts of extreme winds.Those incendiary conditions gave way over the weekend to cooler, moister weather and calmer winds, enabling weary firefighters to gain ground in efforts to outflank blazes that had burned largely unchecked last week.Fire managers cautioned that the battle was hardly over. Thunderstorms forecast for later in the week could bring much-needed rain but also more lightning. Officials also braced for a rise in the death toll.As disaster teams scoured the ruins of dwellings engulfed by flames amid chaotic evacuations last week, Oregon’s emergency management authorities said they had yet to account for 22 people reported missing in the fires.At least 25 people have perished in California wildfires since mid-August, and one fatality has been confirmed in Washington state. More than 6,200 homes and other structures have been lost, according to figures from all three states.'"
      ]
     },
     "execution_count": 109,
     "metadata": {},
     "output_type": "execute_result"
    }
   ],
   "source": [
    "new_para\n"
   ]
  },
  {
   "cell_type": "markdown",
   "metadata": {},
   "source": [
    "### replace a string with another string"
   ]
  },
  {
   "cell_type": "code",
   "execution_count": 127,
   "metadata": {},
   "outputs": [],
   "source": [
    "poem = \"Jack and Jill went up the hill\""
   ]
  },
  {
   "cell_type": "code",
   "execution_count": 128,
   "metadata": {},
   "outputs": [
    {
     "data": {
      "text/plain": [
       "'Jack and Jill went up the hill'"
      ]
     },
     "execution_count": 128,
     "metadata": {},
     "output_type": "execute_result"
    }
   ],
   "source": [
    "poem"
   ]
  },
  {
   "cell_type": "code",
   "execution_count": 129,
   "metadata": {},
   "outputs": [],
   "source": [
    "?poem.replace"
   ]
  },
  {
   "cell_type": "code",
   "execution_count": 133,
   "metadata": {},
   "outputs": [],
   "source": [
    "poem = poem.replace('up','down')"
   ]
  },
  {
   "cell_type": "code",
   "execution_count": 134,
   "metadata": {},
   "outputs": [
    {
     "data": {
      "text/plain": [
       "'Jack and Jill went down the hill'"
      ]
     },
     "execution_count": 134,
     "metadata": {},
     "output_type": "execute_result"
    }
   ],
   "source": [
    "poem"
   ]
  },
  {
   "cell_type": "markdown",
   "metadata": {},
   "source": [
    "## Test"
   ]
  },
  {
   "cell_type": "code",
   "execution_count": 7,
   "metadata": {},
   "outputs": [
    {
     "name": "stdout",
     "output_type": "stream",
     "text": [
      "Enter your name:Anahita\n",
      "Anahita\n"
     ]
    }
   ],
   "source": [
    "name = input(\"Enter your name:\")\n",
    "print(name)"
   ]
  },
  {
   "cell_type": "code",
   "execution_count": 5,
   "metadata": {},
   "outputs": [
    {
     "name": "stdout",
     "output_type": "stream",
     "text": [
      "Anahita not found\n"
     ]
    }
   ],
   "source": [
    "if name == \"Anahita\":\n",
    "    print(\"Anahita found\")\n",
    "else:\n",
    "    print(\"Anahita not found\")"
   ]
  },
  {
   "cell_type": "code",
   "execution_count": 13,
   "metadata": {},
   "outputs": [
    {
     "name": "stdout",
     "output_type": "stream",
     "text": [
      "True\n",
      "False\n",
      "True\n",
      "False\n",
      "True\n",
      "False\n",
      "True\n",
      "False\n",
      "True\n",
      "False\n"
     ]
    }
   ],
   "source": [
    "x = True\n",
    "for i in range(10):\n",
    "    \n",
    "    print(x)\n",
    "    \n",
    "    x = not x"
   ]
  },
  {
   "cell_type": "code",
   "execution_count": 14,
   "metadata": {},
   "outputs": [],
   "source": [
    "numbers = [23,30,5,8,90]"
   ]
  },
  {
   "cell_type": "code",
   "execution_count": null,
   "metadata": {},
   "outputs": [],
   "source": [
    "for i in range(0:9):\n",
    "    for j in range(1:10):\n",
    "        \n",
    "        if "
   ]
  },
  {
   "cell_type": "code",
   "execution_count": 18,
   "metadata": {},
   "outputs": [
    {
     "name": "stdout",
     "output_type": "stream",
     "text": [
      "45\n"
     ]
    }
   ],
   "source": [
    "temp = 0\n",
    "\n",
    "for i in range(10):\n",
    "    \n",
    "    temp = temp + i\n",
    "    \n",
    "total = temp\n",
    "\n",
    "print(total)"
   ]
  },
  {
   "cell_type": "code",
   "execution_count": 19,
   "metadata": {},
   "outputs": [],
   "source": [
    "firstNames = ['f_1','f_2','f_3']\n",
    "lastNames = ['l_1','l_2','l_3']"
   ]
  },
  {
   "cell_type": "code",
   "execution_count": 20,
   "metadata": {},
   "outputs": [
    {
     "data": {
      "text/plain": [
       "(['f_1', 'f_2', 'f_3'], ['l_1', 'l_2', 'l_3'])"
      ]
     },
     "execution_count": 20,
     "metadata": {},
     "output_type": "execute_result"
    }
   ],
   "source": [
    "firstNames, lastNames"
   ]
  },
  {
   "cell_type": "code",
   "execution_count": null,
   "metadata": {},
   "outputs": [],
   "source": []
  }
 ],
 "metadata": {
  "kernelspec": {
   "display_name": "Python 3",
   "language": "python",
   "name": "python3"
  },
  "language_info": {
   "codemirror_mode": {
    "name": "ipython",
    "version": 3
   },
   "file_extension": ".py",
   "mimetype": "text/x-python",
   "name": "python",
   "nbconvert_exporter": "python",
   "pygments_lexer": "ipython3",
   "version": "3.7.6"
  }
 },
 "nbformat": 4,
 "nbformat_minor": 4
}
