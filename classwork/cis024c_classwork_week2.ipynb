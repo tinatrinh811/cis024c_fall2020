{
 "cells": [
  {
   "cell_type": "code",
   "execution_count": 1,
   "metadata": {},
   "outputs": [
    {
     "data": {
      "text/plain": [
       "True"
      ]
     },
     "execution_count": 1,
     "metadata": {},
     "output_type": "execute_result"
    }
   ],
   "source": [
    "2 == 2"
   ]
  },
  {
   "cell_type": "code",
   "execution_count": 3,
   "metadata": {},
   "outputs": [
    {
     "data": {
      "text/plain": [
       "bool"
      ]
     },
     "execution_count": 3,
     "metadata": {},
     "output_type": "execute_result"
    }
   ],
   "source": [
    "type(2 != 2)"
   ]
  },
  {
   "cell_type": "code",
   "execution_count": 4,
   "metadata": {},
   "outputs": [],
   "source": [
    "result = (2==2)"
   ]
  },
  {
   "cell_type": "code",
   "execution_count": 5,
   "metadata": {},
   "outputs": [
    {
     "data": {
      "text/plain": [
       "True"
      ]
     },
     "execution_count": 5,
     "metadata": {},
     "output_type": "execute_result"
    }
   ],
   "source": [
    "result"
   ]
  },
  {
   "cell_type": "markdown",
   "metadata": {},
   "source": [
    "## Quick note on indentations in Python"
   ]
  },
  {
   "cell_type": "code",
   "execution_count": 7,
   "metadata": {},
   "outputs": [
    {
     "name": "stdout",
     "output_type": "stream",
     "text": [
      "x is not equal to y\n"
     ]
    }
   ],
   "source": [
    "x = 2\n",
    "y = 3\n",
    "z = 6\n",
    "\n",
    "if x == y:\n",
    "    print(\"hi there...I have the result!\")\n",
    "    print(\"x is equal to y\")\n",
    "    if x > z:\n",
    "        print(\"x is greater than z)\n",
    "    else:\n",
    "        print(\"x is not greater than z\")\n",
    "else:\n",
    "    print(\"hi there...I have the result!\")\n",
    "    print(\"x is not equal to y\")"
   ]
  },
  {
   "cell_type": "markdown",
   "metadata": {},
   "source": [
    "## Code blocks in C++"
   ]
  },
  {
   "cell_type": "code",
   "execution_count": null,
   "metadata": {},
   "outputs": [],
   "source": [
    "if x == y \n",
    "{\n",
    "    print(\"x is equal to y\")\n",
    "}\n",
    "else\n",
    "{\n",
    "    print(\"x is not equal to y\")\n",
    "}"
   ]
  },
  {
   "cell_type": "markdown",
   "metadata": {},
   "source": [
    "## Recap of if statements"
   ]
  },
  {
   "cell_type": "code",
   "execution_count": 10,
   "metadata": {},
   "outputs": [
    {
     "name": "stdout",
     "output_type": "stream",
     "text": [
      "Enter your sysolic reading:160\n",
      "Enter your diastolic reading:80\n",
      "Systolic levels are abnormal.\n",
      "Diastolic levels are normal\n"
     ]
    }
   ],
   "source": [
    "bp_systolic = int(input(\"Enter your sysolic reading:\"))\n",
    "bp_diastolic = int(input(\"Enter your diastolic reading:\"))\n",
    "\n",
    "if bp_systolic < 70 or bp_systolic > 150:\n",
    "    print(\"Systolic levels are abnormal.\")\n",
    "else:\n",
    "    print(\"Systolic levels are normal\")\n",
    "    \n",
    "if bp_diastolic < 50 or bp_diastolic > 100:\n",
    "    print(\"Diastolic levels are abnormal.\")\n",
    "else:\n",
    "    print(\"Diastolic levels are normal\")\n",
    "    "
   ]
  },
  {
   "cell_type": "code",
   "execution_count": null,
   "metadata": {},
   "outputs": [],
   "source": []
  }
 ],
 "metadata": {
  "kernelspec": {
   "display_name": "Python 3",
   "language": "python",
   "name": "python3"
  },
  "language_info": {
   "codemirror_mode": {
    "name": "ipython",
    "version": 3
   },
   "file_extension": ".py",
   "mimetype": "text/x-python",
   "name": "python",
   "nbconvert_exporter": "python",
   "pygments_lexer": "ipython3",
   "version": "3.7.6"
  }
 },
 "nbformat": 4,
 "nbformat_minor": 4
}
