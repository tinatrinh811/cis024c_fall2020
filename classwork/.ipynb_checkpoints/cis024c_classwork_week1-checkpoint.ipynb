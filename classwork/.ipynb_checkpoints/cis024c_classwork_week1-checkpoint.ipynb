{
 "cells": [
  {
   "cell_type": "code",
   "execution_count": 1,
   "metadata": {},
   "outputs": [
    {
     "data": {
      "text/plain": [
       "4"
      ]
     },
     "execution_count": 1,
     "metadata": {},
     "output_type": "execute_result"
    }
   ],
   "source": [
    "2+2"
   ]
  },
  {
   "cell_type": "code",
   "execution_count": 2,
   "metadata": {},
   "outputs": [
    {
     "data": {
      "text/plain": [
       "5"
      ]
     },
     "execution_count": 2,
     "metadata": {},
     "output_type": "execute_result"
    }
   ],
   "source": [
    "3+2"
   ]
  },
  {
   "cell_type": "code",
   "execution_count": 3,
   "metadata": {},
   "outputs": [
    {
     "data": {
      "text/plain": [
       "8"
      ]
     },
     "execution_count": 3,
     "metadata": {},
     "output_type": "execute_result"
    }
   ],
   "source": [
    "6+2"
   ]
  },
  {
   "cell_type": "code",
   "execution_count": 4,
   "metadata": {},
   "outputs": [
    {
     "data": {
      "text/plain": [
       "10"
      ]
     },
     "execution_count": 4,
     "metadata": {},
     "output_type": "execute_result"
    }
   ],
   "source": [
    "8+2"
   ]
  },
  {
   "cell_type": "code",
   "execution_count": 5,
   "metadata": {},
   "outputs": [
    {
     "data": {
      "text/plain": [
       "11"
      ]
     },
     "execution_count": 5,
     "metadata": {},
     "output_type": "execute_result"
    }
   ],
   "source": [
    "2+9"
   ]
  },
  {
   "cell_type": "code",
   "execution_count": 22,
   "metadata": {},
   "outputs": [
    {
     "name": "stdout",
     "output_type": "stream",
     "text": [
      "Enter the first number:3\n",
      "Enter the second number:3\n",
      "104\n"
     ]
    }
   ],
   "source": [
    "number1 = int(input(\"Enter the first number:\"))\n",
    "number2 = int(input(\"Enter the second number:\"))\n",
    "\n",
    "result = number1 + number2 + 98\n",
    "\n",
    "print(result)"
   ]
  },
  {
   "cell_type": "code",
   "execution_count": 24,
   "metadata": {},
   "outputs": [
    {
     "name": "stdout",
     "output_type": "stream",
     "text": [
      "Enter the first number:3\n",
      "Enter the second number:3\n",
      "81\n"
     ]
    }
   ],
   "source": [
    "number1 = int(input(\"Enter the first number:\"))\n",
    "number2 = int(input(\"Enter the second number:\"))\n",
    "\n",
    "result = number1 * number2**3\n",
    "\n",
    "print(result)"
   ]
  },
  {
   "cell_type": "code",
   "execution_count": 15,
   "metadata": {},
   "outputs": [
    {
     "data": {
      "text/plain": [
       "int"
      ]
     },
     "execution_count": 15,
     "metadata": {},
     "output_type": "execute_result"
    }
   ],
   "source": [
    "x = 9\n",
    "\n",
    "type(x)"
   ]
  },
  {
   "cell_type": "code",
   "execution_count": 16,
   "metadata": {},
   "outputs": [],
   "source": [
    "x = \"Hello\""
   ]
  },
  {
   "cell_type": "code",
   "execution_count": 17,
   "metadata": {},
   "outputs": [
    {
     "data": {
      "text/plain": [
       "str"
      ]
     },
     "execution_count": 17,
     "metadata": {},
     "output_type": "execute_result"
    }
   ],
   "source": [
    "type(x)"
   ]
  },
  {
   "cell_type": "code",
   "execution_count": 19,
   "metadata": {},
   "outputs": [],
   "source": [
    "x = True"
   ]
  },
  {
   "cell_type": "code",
   "execution_count": 20,
   "metadata": {},
   "outputs": [],
   "source": [
    "y = False"
   ]
  },
  {
   "cell_type": "code",
   "execution_count": 28,
   "metadata": {},
   "outputs": [
    {
     "name": "stdout",
     "output_type": "stream",
     "text": [
      "Enter the first number:2\n",
      "Enter the second number:2\n"
     ]
    },
    {
     "data": {
      "text/plain": [
       "True"
      ]
     },
     "execution_count": 28,
     "metadata": {},
     "output_type": "execute_result"
    }
   ],
   "source": [
    "# comparing two values - greater than or equal to\n",
    "\n",
    "number1 = int(input(\"Enter the first number:\"))\n",
    "number2 = int(input(\"Enter the second number:\"))\n",
    "\n",
    "number1 >= number2"
   ]
  },
  {
   "cell_type": "code",
   "execution_count": 29,
   "metadata": {},
   "outputs": [
    {
     "name": "stdout",
     "output_type": "stream",
     "text": [
      "Enter the first number:3\n",
      "Enter the second number:5\n"
     ]
    },
    {
     "data": {
      "text/plain": [
       "True"
      ]
     },
     "execution_count": 29,
     "metadata": {},
     "output_type": "execute_result"
    }
   ],
   "source": [
    "# comparing two values - less than\n",
    "\n",
    "number1 = int(input(\"Enter the first number:\"))\n",
    "number2 = int(input(\"Enter the second number:\"))\n",
    "\n",
    "number1 < number2"
   ]
  },
  {
   "cell_type": "code",
   "execution_count": 31,
   "metadata": {},
   "outputs": [
    {
     "name": "stdout",
     "output_type": "stream",
     "text": [
      "Enter the first number:2\n",
      "Enter the second number:3\n"
     ]
    },
    {
     "data": {
      "text/plain": [
       "False"
      ]
     },
     "execution_count": 31,
     "metadata": {},
     "output_type": "execute_result"
    }
   ],
   "source": [
    "# comparing two values  - for equality\n",
    "\n",
    "number1 = int(input(\"Enter the first number:\"))\n",
    "number2 = int(input(\"Enter the second number:\"))\n",
    "\n",
    "number1 == number2"
   ]
  },
  {
   "cell_type": "code",
   "execution_count": 33,
   "metadata": {},
   "outputs": [
    {
     "name": "stdout",
     "output_type": "stream",
     "text": [
      "Enter the first number:2\n",
      "Enter the second number:2\n"
     ]
    },
    {
     "data": {
      "text/plain": [
       "False"
      ]
     },
     "execution_count": 33,
     "metadata": {},
     "output_type": "execute_result"
    }
   ],
   "source": [
    "# comparing two values  - for not equal\n",
    "\n",
    "number1 = int(input(\"Enter the first number:\"))\n",
    "number2 = int(input(\"Enter the second number:\"))\n",
    "\n",
    "number1 != number2"
   ]
  },
  {
   "cell_type": "code",
   "execution_count": 35,
   "metadata": {},
   "outputs": [
    {
     "name": "stdout",
     "output_type": "stream",
     "text": [
      "Enter student 1 age:2\n",
      "Enter student 2 age:3\n",
      "Student 1 and Student 2 have different ages\n"
     ]
    }
   ],
   "source": [
    "# compare student age\n",
    "\n",
    "student1_age = int(input(\"Enter student 1 age:\"))\n",
    "\n",
    "student2_age = int(input(\"Enter student 2 age:\"))\n",
    "\n",
    "if student1_age == student2_age:\n",
    "    print(\"Student 1 has the same age as Student 2\")\n",
    "else:\n",
    "    print(\"Student 1 and Student 2 have different ages\")"
   ]
  },
  {
   "cell_type": "code",
   "execution_count": 38,
   "metadata": {},
   "outputs": [
    {
     "name": "stdout",
     "output_type": "stream",
     "text": [
      "Enter your Sales for the year:25000\n",
      "Commission is: 3750.0\n"
     ]
    }
   ],
   "source": [
    "### see how much commission a sales guy would get\n",
    "# did not meet target - no commission\n",
    "# meet target = 10% \n",
    "# exceed target = 15%\n",
    "\n",
    "target = 20000\n",
    "\n",
    "sales = int(input(\"Enter your Sales for the year:\"))\n",
    "\n",
    "commission = 0\n",
    "\n",
    "if sales < target:\n",
    "    commission = 0\n",
    "elif sales == target:\n",
    "    commission = 0.1 * sales\n",
    "else:\n",
    "    commission = 0.15 * sales\n",
    "    \n",
    "print(\"Commission is:\",commission)\n",
    "\n"
   ]
  },
  {
   "cell_type": "code",
   "execution_count": null,
   "metadata": {},
   "outputs": [],
   "source": []
  }
 ],
 "metadata": {
  "kernelspec": {
   "display_name": "Python 3",
   "language": "python",
   "name": "python3"
  },
  "language_info": {
   "codemirror_mode": {
    "name": "ipython",
    "version": 3
   },
   "file_extension": ".py",
   "mimetype": "text/x-python",
   "name": "python",
   "nbconvert_exporter": "python",
   "pygments_lexer": "ipython3",
   "version": "3.7.6"
  }
 },
 "nbformat": 4,
 "nbformat_minor": 4
}
