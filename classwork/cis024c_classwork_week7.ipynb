{
 "cells": [
  {
   "cell_type": "markdown",
   "metadata": {},
   "source": [
    "## Exceptions"
   ]
  },
  {
   "cell_type": "markdown",
   "metadata": {},
   "source": [
    "### Recap on Functions"
   ]
  },
  {
   "cell_type": "code",
   "execution_count": 1,
   "metadata": {},
   "outputs": [],
   "source": [
    "# Re-use - anyone can write a piece of code and then share it with others\n",
    "# Functions allow you to organize your code better"
   ]
  },
  {
   "cell_type": "code",
   "execution_count": 5,
   "metadata": {},
   "outputs": [],
   "source": [
    "def calculate(n1, n2, operator):\n",
    "    \n",
    "    def add(n1,n2):\n",
    "        return n1+n2\n",
    "    \n",
    "    def subtract(n1,n2):\n",
    "        return n1-n2\n",
    "    \n",
    "    def multiply(n1,n2):\n",
    "        return n1*n2\n",
    "    \n",
    "    def divide(n1,n2):\n",
    "        return n1/n2\n",
    "    \n",
    "    if operator == '+':\n",
    "        return add(n1,n2)\n",
    "    elif operator == '-':\n",
    "        return subtract(n1,n2)\n",
    "    elif operator == '*':\n",
    "        return multiply(n1,n2)\n",
    "    elif operator == '/':\n",
    "        return divide(n1,n2)\n",
    "    else:\n",
    "        print(\"Invalid Operator\")\n",
    "        return None\n",
    "    "
   ]
  },
  {
   "cell_type": "code",
   "execution_count": 8,
   "metadata": {},
   "outputs": [
    {
     "data": {
      "text/plain": [
       "6"
      ]
     },
     "execution_count": 8,
     "metadata": {},
     "output_type": "execute_result"
    }
   ],
   "source": [
    "calculate(2,3,'*')"
   ]
  },
  {
   "cell_type": "code",
   "execution_count": 12,
   "metadata": {},
   "outputs": [],
   "source": [
    "def compute_new_salary(salary, tax_rate):\n",
    "    \n",
    "    # returns the tax that the employee should pay\n",
    "    \n",
    "    tax = calculate(salary,tax_rate,'*')\n",
    "    \n",
    "    return calculate(salary, tax, '+')"
   ]
  },
  {
   "cell_type": "code",
   "execution_count": 13,
   "metadata": {},
   "outputs": [
    {
     "data": {
      "text/plain": [
       "26750.0"
      ]
     },
     "execution_count": 13,
     "metadata": {},
     "output_type": "execute_result"
    }
   ],
   "source": [
    "compute_new_salary(25000,0.07)"
   ]
  },
  {
   "cell_type": "markdown",
   "metadata": {},
   "source": [
    "### Exceptions and Exception Handling"
   ]
  },
  {
   "cell_type": "code",
   "execution_count": 21,
   "metadata": {},
   "outputs": [
    {
     "data": {
      "text/plain": [
       "1997"
      ]
     },
     "execution_count": 21,
     "metadata": {},
     "output_type": "execute_result"
    }
   ],
   "source": [
    "year_of_birth"
   ]
  },
  {
   "cell_type": "code",
   "execution_count": 20,
   "metadata": {},
   "outputs": [
    {
     "name": "stdout",
     "output_type": "stream",
     "text": [
      "Exception Occurred. Please check your program for correctness\n",
      "Your year of birth is: 1997\n"
     ]
    }
   ],
   "source": [
    "try:\n",
    "    age = input(\"Enter your age:\")\n",
    "\n",
    "    year_of_birth = 2020 - age\n",
    "    \n",
    "except:\n",
    "    print(\"Exception Occurred. Please check your program for correctness\")\n",
    "\n",
    "print(\"Your year of birth is:\", year_of_birth)"
   ]
  },
  {
   "cell_type": "code",
   "execution_count": 24,
   "metadata": {},
   "outputs": [
    {
     "name": "stdout",
     "output_type": "stream",
     "text": [
      "Enter your age:23\n",
      "Exception Occurred. Please check your program for correctness\n",
      "Exception: unsupported operand type(s) for -: 'int' and 'str'\n",
      "Your year of birth is: 1997\n"
     ]
    }
   ],
   "source": [
    "try:\n",
    "    age = input(\"Enter your age:\")\n",
    "\n",
    "    year_of_birth = 2020 - age\n",
    "    \n",
    "except Exception as err:\n",
    "    print(\"Exception Occurred. Please check your program for correctness\")\n",
    "    print(\"Exception:\",err)\n",
    "    \n",
    "print(\"Your year of birth is:\", year_of_birth)"
   ]
  },
  {
   "cell_type": "markdown",
   "metadata": {},
   "source": [
    "### Exceptions - Helping users enter the right input"
   ]
  },
  {
   "cell_type": "code",
   "execution_count": 29,
   "metadata": {},
   "outputs": [
    {
     "name": "stdout",
     "output_type": "stream",
     "text": [
      "Enter your age:23s\n"
     ]
    },
    {
     "ename": "ValueError",
     "evalue": "invalid literal for int() with base 10: '23s'",
     "output_type": "error",
     "traceback": [
      "\u001b[0;31m---------------------------------------------------------------------------\u001b[0m",
      "\u001b[0;31mValueError\u001b[0m                                Traceback (most recent call last)",
      "\u001b[0;32m<ipython-input-29-5bec67555f1c>\u001b[0m in \u001b[0;36m<module>\u001b[0;34m\u001b[0m\n\u001b[0;32m----> 1\u001b[0;31m \u001b[0mage\u001b[0m \u001b[0;34m=\u001b[0m \u001b[0mint\u001b[0m\u001b[0;34m(\u001b[0m\u001b[0minput\u001b[0m\u001b[0;34m(\u001b[0m\u001b[0;34m\"Enter your age:\"\u001b[0m\u001b[0;34m)\u001b[0m\u001b[0;34m)\u001b[0m\u001b[0;34m\u001b[0m\u001b[0;34m\u001b[0m\u001b[0m\n\u001b[0m\u001b[1;32m      2\u001b[0m \u001b[0;34m\u001b[0m\u001b[0m\n\u001b[1;32m      3\u001b[0m \u001b[0myear_of_birth\u001b[0m \u001b[0;34m=\u001b[0m \u001b[0;36m2020\u001b[0m \u001b[0;34m-\u001b[0m \u001b[0mage\u001b[0m\u001b[0;34m\u001b[0m\u001b[0;34m\u001b[0m\u001b[0m\n\u001b[1;32m      4\u001b[0m \u001b[0;34m\u001b[0m\u001b[0m\n\u001b[1;32m      5\u001b[0m \u001b[0mprint\u001b[0m\u001b[0;34m(\u001b[0m\u001b[0;34m\"Your year of birth is:\"\u001b[0m\u001b[0;34m,\u001b[0m \u001b[0myear_of_birth\u001b[0m\u001b[0;34m)\u001b[0m\u001b[0;34m\u001b[0m\u001b[0;34m\u001b[0m\u001b[0m\n",
      "\u001b[0;31mValueError\u001b[0m: invalid literal for int() with base 10: '23s'"
     ]
    }
   ],
   "source": [
    "age = int(input(\"Enter your age:\"))\n",
    "\n",
    "year_of_birth = 2020 - age\n",
    "    \n",
    "print(\"Your year of birth is:\", year_of_birth)"
   ]
  },
  {
   "cell_type": "code",
   "execution_count": 41,
   "metadata": {},
   "outputs": [
    {
     "name": "stdout",
     "output_type": "stream",
     "text": [
      "Enter your age:23s\n",
      "Value Error Exception Occurred\n",
      "Details: invalid literal for int() with base 10: '23s'\n",
      "Your year of birth is: 1997\n"
     ]
    }
   ],
   "source": [
    "try:\n",
    "    age = int(input(\"Enter your age:\"))\n",
    "    year_of_birth = 2020 - age\n",
    "    \n",
    "except ValueError as err:\n",
    "    print(\"Value Error Exception Occurred\")\n",
    "    print(\"Details:\",err)\n",
    "    \n",
    "except TypeError as err:\n",
    "    print(\"Type Error Exception Occurred\")\n",
    "    print(\"Details:\",err)\n",
    "    \n",
    "except Exception as err:\n",
    "    print(\"\\nSome other exception occurred\")\n",
    "    print(\"Exception:\", err)\n",
    "    \n",
    "print(\"Your year of birth is:\", year_of_birth)"
   ]
  },
  {
   "cell_type": "code",
   "execution_count": 42,
   "metadata": {},
   "outputs": [
    {
     "name": "stdout",
     "output_type": "stream",
     "text": [
      "Enter your age:23s\n",
      "Value Error Exception Occurred\n",
      "Details: invalid literal for int() with base 10: '23s'\n",
      "Please try again...\n",
      "Enter your age:30s\n",
      "Value Error Exception Occurred\n",
      "Details: invalid literal for int() with base 10: '30s'\n",
      "Please try again...\n",
      "Enter your age:90s\n",
      "Value Error Exception Occurred\n",
      "Details: invalid literal for int() with base 10: '90s'\n",
      "Please try again...\n",
      "Enter your age:42\n",
      "Your year of birth is: 1978\n"
     ]
    }
   ],
   "source": [
    "while True:\n",
    "    \n",
    "    try:\n",
    "        age = int(input(\"Enter your age:\"))\n",
    "        year_of_birth = 2020 - age\n",
    "        break\n",
    "\n",
    "    except ValueError as err:\n",
    "        print(\"Value Error Exception Occurred\")\n",
    "        print(\"Details:\",err)\n",
    "        print(\"Please try again...\")\n",
    "\n",
    "    except TypeError as err:\n",
    "        print(\"Type Error Exception Occurred\")\n",
    "        print(\"Details:\",err)\n",
    "        print(\"Please try again...\")\n",
    "\n",
    "    except Exception as err:\n",
    "        print(\"\\nSome other exception occurred\")\n",
    "        print(\"Exception:\", err)\n",
    "        print(\"Please try again...\")\n",
    "        \n",
    "print(\"Your year of birth is:\", year_of_birth)"
   ]
  },
  {
   "cell_type": "markdown",
   "metadata": {},
   "source": [
    "### Types of Exceptions"
   ]
  },
  {
   "cell_type": "code",
   "execution_count": 46,
   "metadata": {},
   "outputs": [
    {
     "ename": "ValueError",
     "evalue": "invalid literal for int() with base 10: '23s'",
     "output_type": "error",
     "traceback": [
      "\u001b[0;31m---------------------------------------------------------------------------\u001b[0m",
      "\u001b[0;31mValueError\u001b[0m                                Traceback (most recent call last)",
      "\u001b[0;32m<ipython-input-46-598155e73982>\u001b[0m in \u001b[0;36m<module>\u001b[0;34m\u001b[0m\n\u001b[1;32m      1\u001b[0m \u001b[0;31m# ValueEror\u001b[0m\u001b[0;34m\u001b[0m\u001b[0;34m\u001b[0m\u001b[0;34m\u001b[0m\u001b[0m\n\u001b[0;32m----> 2\u001b[0;31m \u001b[0mint\u001b[0m\u001b[0;34m(\u001b[0m\u001b[0;34m'23s'\u001b[0m\u001b[0;34m)\u001b[0m\u001b[0;34m\u001b[0m\u001b[0;34m\u001b[0m\u001b[0m\n\u001b[0m",
      "\u001b[0;31mValueError\u001b[0m: invalid literal for int() with base 10: '23s'"
     ]
    }
   ],
   "source": [
    "# ValueEror\n",
    "int('23s')"
   ]
  },
  {
   "cell_type": "code",
   "execution_count": 49,
   "metadata": {},
   "outputs": [
    {
     "ename": "TypeError",
     "evalue": "unsupported operand type(s) for +: 'int' and 'str'",
     "output_type": "error",
     "traceback": [
      "\u001b[0;31m---------------------------------------------------------------------------\u001b[0m",
      "\u001b[0;31mTypeError\u001b[0m                                 Traceback (most recent call last)",
      "\u001b[0;32m<ipython-input-49-c48758269b89>\u001b[0m in \u001b[0;36m<module>\u001b[0;34m\u001b[0m\n\u001b[1;32m      1\u001b[0m \u001b[0;31m# TypeError - Incompatible Types\u001b[0m\u001b[0;34m\u001b[0m\u001b[0;34m\u001b[0m\u001b[0;34m\u001b[0m\u001b[0m\n\u001b[0;32m----> 2\u001b[0;31m \u001b[0my\u001b[0m \u001b[0;34m=\u001b[0m \u001b[0;36m2\u001b[0m \u001b[0;34m+\u001b[0m \u001b[0;34m'3'\u001b[0m\u001b[0;34m\u001b[0m\u001b[0;34m\u001b[0m\u001b[0m\n\u001b[0m\u001b[1;32m      3\u001b[0m \u001b[0my\u001b[0m\u001b[0;34m\u001b[0m\u001b[0;34m\u001b[0m\u001b[0m\n",
      "\u001b[0;31mTypeError\u001b[0m: unsupported operand type(s) for +: 'int' and 'str'"
     ]
    }
   ],
   "source": [
    "# TypeError - Incompatible Types\n",
    "y = 2 + '3'\n",
    "y"
   ]
  },
  {
   "cell_type": "code",
   "execution_count": 50,
   "metadata": {},
   "outputs": [],
   "source": [
    "shopping_list = ['sugar','eggs','flour']"
   ]
  },
  {
   "cell_type": "code",
   "execution_count": 51,
   "metadata": {},
   "outputs": [
    {
     "data": {
      "text/plain": [
       "'flour'"
      ]
     },
     "execution_count": 51,
     "metadata": {},
     "output_type": "execute_result"
    }
   ],
   "source": [
    "shopping_list[2]"
   ]
  },
  {
   "cell_type": "code",
   "execution_count": 57,
   "metadata": {},
   "outputs": [
    {
     "name": "stdout",
     "output_type": "stream",
     "text": [
      "Enter the shopping list index:3\n",
      "Invalid Index Provided\n",
      "Details: list index out of range\n",
      "Please try again...\n",
      "\n",
      "Enter the shopping list index:2\n"
     ]
    }
   ],
   "source": [
    "while True:\n",
    "    try:\n",
    "        index = int(input(\"Enter the shopping list index:\"))\n",
    "        shopping_list[index]\n",
    "        break\n",
    "\n",
    "    except IndexError as err:\n",
    "        print(\"Invalid Index Provided\")\n",
    "        print(\"Details:\", err)\n",
    "        \n",
    "        print(\"Please try again...\\n\")\n"
   ]
  },
  {
   "cell_type": "code",
   "execution_count": 58,
   "metadata": {},
   "outputs": [],
   "source": [
    "# KeyError\n",
    "employees = {1:'harry', 2:'sally', 3:'anne'}"
   ]
  },
  {
   "cell_type": "code",
   "execution_count": 59,
   "metadata": {},
   "outputs": [
    {
     "data": {
      "text/plain": [
       "{1: 'harry', 2: 'sally', 3: 'anne'}"
      ]
     },
     "execution_count": 59,
     "metadata": {},
     "output_type": "execute_result"
    }
   ],
   "source": [
    "employees"
   ]
  },
  {
   "cell_type": "code",
   "execution_count": 60,
   "metadata": {},
   "outputs": [
    {
     "data": {
      "text/plain": [
       "'harry'"
      ]
     },
     "execution_count": 60,
     "metadata": {},
     "output_type": "execute_result"
    }
   ],
   "source": [
    "employees[1]"
   ]
  },
  {
   "cell_type": "code",
   "execution_count": 61,
   "metadata": {},
   "outputs": [
    {
     "ename": "KeyError",
     "evalue": "5",
     "output_type": "error",
     "traceback": [
      "\u001b[0;31m---------------------------------------------------------------------------\u001b[0m",
      "\u001b[0;31mKeyError\u001b[0m                                  Traceback (most recent call last)",
      "\u001b[0;32m<ipython-input-61-3f88f52a9cf8>\u001b[0m in \u001b[0;36m<module>\u001b[0;34m\u001b[0m\n\u001b[0;32m----> 1\u001b[0;31m \u001b[0memployees\u001b[0m\u001b[0;34m[\u001b[0m\u001b[0;36m5\u001b[0m\u001b[0;34m]\u001b[0m\u001b[0;34m\u001b[0m\u001b[0;34m\u001b[0m\u001b[0m\n\u001b[0m",
      "\u001b[0;31mKeyError\u001b[0m: 5"
     ]
    }
   ],
   "source": [
    "employees[5]"
   ]
  },
  {
   "cell_type": "code",
   "execution_count": 62,
   "metadata": {},
   "outputs": [
    {
     "name": "stdout",
     "output_type": "stream",
     "text": [
      "Enter the key:5\n",
      "Invalid Key Provided\n",
      "Details: 5\n",
      "Please try again...\n",
      "\n",
      "Enter the key:2\n"
     ]
    }
   ],
   "source": [
    "# KeyError\n",
    "employees = {1:'harry', 2:'sally', 3:'anne'}\n",
    "while True:\n",
    "    try:\n",
    "        key = int(input(\"Enter the key:\"))\n",
    "        employees[key]\n",
    "        break\n",
    "\n",
    "    except KeyError as err:\n",
    "        print(\"Invalid Key Provided\")\n",
    "        print(\"Details:\", err)\n",
    "        \n",
    "        print(\"Please try again...\\n\")\n"
   ]
  },
  {
   "cell_type": "code",
   "execution_count": 63,
   "metadata": {},
   "outputs": [
    {
     "ename": "ZeroDivisionError",
     "evalue": "division by zero",
     "output_type": "error",
     "traceback": [
      "\u001b[0;31m---------------------------------------------------------------------------\u001b[0m",
      "\u001b[0;31mZeroDivisionError\u001b[0m                         Traceback (most recent call last)",
      "\u001b[0;32m<ipython-input-63-da2fa3192911>\u001b[0m in \u001b[0;36m<module>\u001b[0;34m\u001b[0m\n\u001b[1;32m      1\u001b[0m \u001b[0;31m# Zero Division Error\u001b[0m\u001b[0;34m\u001b[0m\u001b[0;34m\u001b[0m\u001b[0;34m\u001b[0m\u001b[0m\n\u001b[1;32m      2\u001b[0m \u001b[0;34m\u001b[0m\u001b[0m\n\u001b[0;32m----> 3\u001b[0;31m \u001b[0;36m8\u001b[0m\u001b[0;34m/\u001b[0m\u001b[0;36m0\u001b[0m\u001b[0;34m\u001b[0m\u001b[0;34m\u001b[0m\u001b[0m\n\u001b[0m",
      "\u001b[0;31mZeroDivisionError\u001b[0m: division by zero"
     ]
    }
   ],
   "source": [
    "# Zero Division Error\n",
    "\n",
    "8/0"
   ]
  },
  {
   "cell_type": "code",
   "execution_count": 65,
   "metadata": {},
   "outputs": [],
   "source": [
    "alice_file = open(\"alice.txt\")\n",
    "alice_file.close()"
   ]
  },
  {
   "cell_type": "code",
   "execution_count": 74,
   "metadata": {},
   "outputs": [
    {
     "name": "stdout",
     "output_type": "stream",
     "text": [
      "Enter the filename:employee.txt1\n",
      "File Not Found\n",
      "Details: [Errno 2] No such file or directory: 'employee.txt1'\n",
      "Please try again...\n",
      "\n",
      "Enter the filename:employee.txt\n",
      "First line: 1,Bob,Physics\n",
      "\n"
     ]
    }
   ],
   "source": [
    "\n",
    "# FileNotFound Exception\n",
    "\n",
    "while True:\n",
    "    try:\n",
    "        file_name = input(\"Enter the filename:\")\n",
    "        file = open(file_name)\n",
    "        print(\"First line:\",file.readline())\n",
    "        file.close()\n",
    "        break\n",
    "\n",
    "    except FileNotFoundError as err:\n",
    "        print(\"File Not Found\")\n",
    "        print(\"Details:\", err)\n",
    "        \n",
    "        print(\"Please try again...\\n\")"
   ]
  },
  {
   "cell_type": "code",
   "execution_count": 72,
   "metadata": {},
   "outputs": [
    {
     "name": "stdout",
     "output_type": "stream",
     "text": [
      "alice.txt                     cis024c_classwork_week5.ipynb\r\n",
      "cis024c_classwork_week1.ipynb cis024c_classwork_week6.ipynb\r\n",
      "cis024c_classwork_week2.ipynb cis024c_classwork_week7.ipynb\r\n",
      "cis024c_classwork_week3.ipynb employee.txt\r\n",
      "cis024c_classwork_week4.ipynb\r\n"
     ]
    }
   ],
   "source": [
    "!ls"
   ]
  },
  {
   "cell_type": "code",
   "execution_count": null,
   "metadata": {},
   "outputs": [],
   "source": [
    "# FileNotFound Exception\n",
    "\n",
    "employees = {}\n",
    "\n",
    "while True:\n",
    "    try:\n",
    "        # Get the filename\n",
    "        file_name = input(\"Enter the filename:\")\n",
    "        file = open(file_name)\n",
    "        \n",
    "        # get contents of the file and parse into the dictionary\n",
    "        for line in file:\n",
    "            employees[int(line.strip().split(',')[0])] = line.strip()\n",
    "            \n",
    "        # ask the user for an employee id and return the employees details\n",
    "        employee_id = int(input(\"Enter employee id:\"))\n",
    "        print(\"Employee details:\", employees[employee_id])\n",
    "        \n",
    "        break\n",
    "\n",
    "    except FileNotFoundError as err:\n",
    "        print(\"File Not Found\")\n",
    "        print(\"Details:\", err)\n",
    "        print(\"Please try again...\\n\")\n",
    "        \n",
    "    except KeyError as err:\n",
    "        print(\"Key Error\")\n",
    "        print(\"Details:\", err)\n",
    "        print(\"Please try again...\\n\")\n",
    "        \n",
    "    finally:\n",
    "        file.close()\n",
    "    "
   ]
  },
  {
   "cell_type": "code",
   "execution_count": 75,
   "metadata": {},
   "outputs": [
    {
     "name": "stdout",
     "output_type": "stream",
     "text": [
      "1,Bob,Physics\r\n",
      "2,Sarah,Computer Science\r\n",
      "3, John,Chemistry\r\n",
      "4,Anne,Biology"
     ]
    }
   ],
   "source": [
    "!cat employee.txt"
   ]
  },
  {
   "cell_type": "code",
   "execution_count": null,
   "metadata": {},
   "outputs": [],
   "source": []
  }
 ],
 "metadata": {
  "kernelspec": {
   "display_name": "Python 3",
   "language": "python",
   "name": "python3"
  },
  "language_info": {
   "codemirror_mode": {
    "name": "ipython",
    "version": 3
   },
   "file_extension": ".py",
   "mimetype": "text/x-python",
   "name": "python",
   "nbconvert_exporter": "python",
   "pygments_lexer": "ipython3",
   "version": "3.7.6"
  }
 },
 "nbformat": 4,
 "nbformat_minor": 4
}
