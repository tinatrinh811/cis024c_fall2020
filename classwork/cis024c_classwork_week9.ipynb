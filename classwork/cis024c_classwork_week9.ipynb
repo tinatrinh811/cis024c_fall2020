{
 "cells": [
  {
   "cell_type": "markdown",
   "metadata": {},
   "source": [
    "## Modules"
   ]
  },
  {
   "cell_type": "code",
   "execution_count": 1,
   "metadata": {},
   "outputs": [],
   "source": [
    "# Modules are a way of making our code (1) well organized and (2) share and collaborate\n",
    "# Modules are also known as libraries"
   ]
  },
  {
   "cell_type": "code",
   "execution_count": 3,
   "metadata": {},
   "outputs": [
    {
     "name": "stdout",
     "output_type": "stream",
     "text": [
      "/Users/sddorair/Personal/SJCC/cis24c/cis024c_fall_2020/classwork\r\n"
     ]
    }
   ],
   "source": [
    "!pwd"
   ]
  },
  {
   "cell_type": "code",
   "execution_count": 4,
   "metadata": {},
   "outputs": [],
   "source": [
    "import calc2"
   ]
  },
  {
   "cell_type": "code",
   "execution_count": 5,
   "metadata": {},
   "outputs": [
    {
     "data": {
      "text/plain": [
       "5"
      ]
     },
     "execution_count": 5,
     "metadata": {},
     "output_type": "execute_result"
    }
   ],
   "source": [
    "calc2.calculate(2,3)"
   ]
  },
  {
   "cell_type": "code",
   "execution_count": 7,
   "metadata": {},
   "outputs": [
    {
     "data": {
      "text/plain": [
       "-1"
      ]
     },
     "execution_count": 7,
     "metadata": {},
     "output_type": "execute_result"
    }
   ],
   "source": [
    "calc2.calculate(2,3,\"-\")"
   ]
  },
  {
   "cell_type": "code",
   "execution_count": 9,
   "metadata": {},
   "outputs": [
    {
     "name": "stdout",
     "output_type": "stream",
     "text": [
      "Result: 5\r\n"
     ]
    }
   ],
   "source": [
    "!python calc2.py"
   ]
  },
  {
   "cell_type": "code",
   "execution_count": 14,
   "metadata": {},
   "outputs": [
    {
     "name": "stdout",
     "output_type": "stream",
     "text": [
      "Overwriting calc3.py\n"
     ]
    }
   ],
   "source": [
    "%%writefile calc3.py\n",
    "\n",
    "# subtract method\n",
    "def subtract(n1,n2):\n",
    "   return n1 - n2\n",
    "\n",
    "# add method\n",
    "def add(n1,n2):\n",
    "   return n1 + n2\n",
    "\n",
    "# calculate method\n",
    "def calculate(n1,n2,operator=\"+\"):\n",
    "   if operator == \"+\":\n",
    "      return add(n1,n2)\n",
    "\n",
    "   elif operator == \"-\":\n",
    "      return subtract(n1,n2)\n",
    "   else:\n",
    "      return \"Unsupported Operator\"\n",
    "\n",
    "#print(\"Result:\",calculate(2,3))"
   ]
  },
  {
   "cell_type": "code",
   "execution_count": 27,
   "metadata": {},
   "outputs": [
    {
     "name": "stdout",
     "output_type": "stream",
     "text": [
      "Overwriting main.py\n"
     ]
    }
   ],
   "source": [
    "%%writefile main.py\n",
    "\n",
    "import calc3\n",
    "import sys\n",
    "\n",
    "#print(\"System Args:\", sys.argv)\n",
    "\n",
    "if len(sys.argv) != 4:\n",
    "    print(\"Invalid Number of parameters\")\n",
    "    sys.exit(-1)\n",
    "    \n",
    "n1 = float(sys.argv[1])\n",
    "n2 = float(sys.argv[2])\n",
    "operator = sys.argv[3]\n",
    "\n",
    "print(\"Result in Main:\",calc3.calculate(n1,n2,operator))"
   ]
  },
  {
   "cell_type": "markdown",
   "metadata": {},
   "source": [
    "## Command Line Argument"
   ]
  },
  {
   "cell_type": "markdown",
   "metadata": {},
   "source": [
    "### How to run a program from the command line"
   ]
  },
  {
   "cell_type": "code",
   "execution_count": 22,
   "metadata": {},
   "outputs": [
    {
     "name": "stdout",
     "output_type": "stream",
     "text": [
      "System Args: ['main.py', '2', '3', '+']\r\n",
      "Result in Main: 11\r\n"
     ]
    }
   ],
   "source": [
    "!python main.py 2 3 +"
   ]
  },
  {
   "cell_type": "markdown",
   "metadata": {},
   "source": [
    "### Using argparser to get command line arguments"
   ]
  },
  {
   "cell_type": "code",
   "execution_count": 28,
   "metadata": {},
   "outputs": [],
   "source": [
    "## argparser link - https://docs.python.org/3/library/argparse.html"
   ]
  },
  {
   "cell_type": "code",
   "execution_count": 55,
   "metadata": {},
   "outputs": [
    {
     "name": "stdout",
     "output_type": "stream",
     "text": [
      "Overwriting cmdline.py\n"
     ]
    }
   ],
   "source": [
    "%%writefile cmdline.py\n",
    "\n",
    "import argparse\n",
    "import calc3\n",
    "\n",
    "parser = argparse.ArgumentParser()\n",
    "\n",
    "parser.add_argument('n1', type=int,help='first number')\n",
    "parser.add_argument('n2',  type=int,help='second number')\n",
    "parser.add_argument('--operator', default=\"-\", help='operators')\n",
    "\n",
    "args = parser.parse_args()\n",
    "\n",
    "print(args.n1, args.n2, args.operator)\n",
    "\n",
    "print(\"Result:\",calc3.calculate(args.n1, args.n2, args.operator))"
   ]
  },
  {
   "cell_type": "code",
   "execution_count": 56,
   "metadata": {},
   "outputs": [
    {
     "name": "stdout",
     "output_type": "stream",
     "text": [
      "usage: cmdline.py [-h] [--operator OPERATOR] n1 n2\r\n",
      "\r\n",
      "positional arguments:\r\n",
      "  n1                   first number\r\n",
      "  n2                   second number\r\n",
      "\r\n",
      "optional arguments:\r\n",
      "  -h, --help           show this help message and exit\r\n",
      "  --operator OPERATOR  operators\r\n"
     ]
    }
   ],
   "source": [
    "!python cmdline.py --help"
   ]
  },
  {
   "cell_type": "code",
   "execution_count": 57,
   "metadata": {},
   "outputs": [
    {
     "name": "stdout",
     "output_type": "stream",
     "text": [
      "usage: cmdline.py [-h] [--operator OPERATOR] n1 n2\r\n",
      "cmdline.py: error: unrecognized arguments: --n1 --n2\r\n"
     ]
    }
   ],
   "source": [
    "!python cmdline.py --n1 2 --n2 3 --operator -"
   ]
  },
  {
   "cell_type": "code",
   "execution_count": 58,
   "metadata": {},
   "outputs": [
    {
     "name": "stdout",
     "output_type": "stream",
     "text": [
      "2 3 -\r\n",
      "Result: -1\r\n"
     ]
    }
   ],
   "source": [
    "!python cmdline.py 2 3"
   ]
  },
  {
   "cell_type": "code",
   "execution_count": null,
   "metadata": {},
   "outputs": [],
   "source": []
  }
 ],
 "metadata": {
  "kernelspec": {
   "display_name": "Python 3",
   "language": "python",
   "name": "python3"
  },
  "language_info": {
   "codemirror_mode": {
    "name": "ipython",
    "version": 3
   },
   "file_extension": ".py",
   "mimetype": "text/x-python",
   "name": "python",
   "nbconvert_exporter": "python",
   "pygments_lexer": "ipython3",
   "version": "3.7.6"
  }
 },
 "nbformat": 4,
 "nbformat_minor": 4
}
