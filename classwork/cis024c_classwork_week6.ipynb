{
 "cells": [
  {
   "cell_type": "markdown",
   "metadata": {},
   "source": [
    "## Functions"
   ]
  },
  {
   "cell_type": "code",
   "execution_count": 4,
   "metadata": {},
   "outputs": [],
   "source": [
    "scores = [60,70,80]"
   ]
  },
  {
   "cell_type": "code",
   "execution_count": 8,
   "metadata": {},
   "outputs": [
    {
     "name": "stdout",
     "output_type": "stream",
     "text": [
      "210\n"
     ]
    }
   ],
   "source": [
    "x = sum(scores)\n",
    "print(x)"
   ]
  },
  {
   "cell_type": "code",
   "execution_count": 9,
   "metadata": {},
   "outputs": [
    {
     "name": "stdout",
     "output_type": "stream",
     "text": [
      "3\n"
     ]
    }
   ],
   "source": [
    "y = len(scores)\n",
    "print(y)"
   ]
  },
  {
   "cell_type": "code",
   "execution_count": 10,
   "metadata": {},
   "outputs": [
    {
     "name": "stdout",
     "output_type": "stream",
     "text": [
      "[60, 70, 80]\n",
      "None\n"
     ]
    }
   ],
   "source": [
    "z = print(scores)\n",
    "print(z)"
   ]
  },
  {
   "cell_type": "code",
   "execution_count": 11,
   "metadata": {},
   "outputs": [
    {
     "name": "stdout",
     "output_type": "stream",
     "text": [
      "Enter your name:Bob\n",
      "Bob\n"
     ]
    }
   ],
   "source": [
    "name = input(\"Enter your name:\")\n",
    "print(name)"
   ]
  },
  {
   "cell_type": "markdown",
   "metadata": {},
   "source": [
    "## Why do we need functions"
   ]
  },
  {
   "cell_type": "markdown",
   "metadata": {},
   "source": [
    "We don't want to repeat writing of code\n",
    "\n",
    "For example, I have written a function that will find the average of a bunch of numbers.\n",
    "\n",
    "Now, someone else wants to find the average of a bunch of numbers.\n",
    "\n",
    "Thequestion is, should they re-write the code to compute the average or can they use the work \n",
    "that you have already done?\n",
    "\n",
    "We want to make sure that we are able to re-use the work that was already done by others.\n",
    "This allows us to focus on the tasks that are not done."
   ]
  },
  {
   "cell_type": "code",
   "execution_count": null,
   "metadata": {},
   "outputs": [],
   "source": [
    "The other reason is because we want to organize our code better.\n",
    "\n",
    "Build a house\n",
    "\n",
    "build a window\n",
    ".\n",
    ".\n",
    ".\n",
    "build a door\n",
    ".\n",
    ".\n",
    ".\n",
    "build the garage\n",
    ".\n",
    ".\n",
    ".\n",
    "\n",
    "What if I could organize better?\n",
    "\n",
    "build a window - function\n",
    "->\n",
    "->\n",
    "\n",
    "\n",
    "Main program:\n",
    "    \n",
    "build a window\n",
    "build a door\n",
    "build the garage"
   ]
  },
  {
   "cell_type": "markdown",
   "metadata": {},
   "source": [
    "## How do we define functions"
   ]
  },
  {
   "cell_type": "code",
   "execution_count": 18,
   "metadata": {},
   "outputs": [],
   "source": [
    "def average_numbers(numbers):\n",
    "    \n",
    "    average = sum(numbers)/len(numbers)\n",
    "    \n",
    "    return average\n",
    "    \n"
   ]
  },
  {
   "cell_type": "code",
   "execution_count": 19,
   "metadata": {},
   "outputs": [
    {
     "data": {
      "text/plain": [
       "[60, 70, 80]"
      ]
     },
     "execution_count": 19,
     "metadata": {},
     "output_type": "execute_result"
    }
   ],
   "source": [
    "scores"
   ]
  },
  {
   "cell_type": "code",
   "execution_count": 20,
   "metadata": {},
   "outputs": [
    {
     "data": {
      "text/plain": [
       "70.0"
      ]
     },
     "execution_count": 20,
     "metadata": {},
     "output_type": "execute_result"
    }
   ],
   "source": [
    "average_numbers(scores)"
   ]
  },
  {
   "cell_type": "code",
   "execution_count": 21,
   "metadata": {},
   "outputs": [],
   "source": [
    "def print_name(firstName, lastName):\n",
    "    print(\"%s %s\" % (firstName,lastName))\n",
    "    "
   ]
  },
  {
   "cell_type": "code",
   "execution_count": 22,
   "metadata": {},
   "outputs": [
    {
     "name": "stdout",
     "output_type": "stream",
     "text": [
      "Bob Sawyer\n"
     ]
    }
   ],
   "source": [
    "print_name(\"Bob\",\"Sawyer\")"
   ]
  },
  {
   "cell_type": "markdown",
   "metadata": {},
   "source": [
    "## Creating a Calculator"
   ]
  },
  {
   "cell_type": "code",
   "execution_count": 23,
   "metadata": {},
   "outputs": [
    {
     "data": {
      "text/plain": [
       "210"
      ]
     },
     "execution_count": 23,
     "metadata": {},
     "output_type": "execute_result"
    }
   ],
   "source": [
    "sum(scores)"
   ]
  },
  {
   "cell_type": "code",
   "execution_count": 24,
   "metadata": {},
   "outputs": [],
   "source": [
    "sum = 200"
   ]
  },
  {
   "cell_type": "code",
   "execution_count": 25,
   "metadata": {},
   "outputs": [
    {
     "data": {
      "text/plain": [
       "200"
      ]
     },
     "execution_count": 25,
     "metadata": {},
     "output_type": "execute_result"
    }
   ],
   "source": [
    "sum"
   ]
  },
  {
   "cell_type": "code",
   "execution_count": 26,
   "metadata": {},
   "outputs": [
    {
     "ename": "TypeError",
     "evalue": "'int' object is not callable",
     "output_type": "error",
     "traceback": [
      "\u001b[0;31m---------------------------------------------------------------------------\u001b[0m",
      "\u001b[0;31mTypeError\u001b[0m                                 Traceback (most recent call last)",
      "\u001b[0;32m<ipython-input-26-a30f4834dd06>\u001b[0m in \u001b[0;36m<module>\u001b[0;34m\u001b[0m\n\u001b[0;32m----> 1\u001b[0;31m \u001b[0msum\u001b[0m\u001b[0;34m(\u001b[0m\u001b[0mscores\u001b[0m\u001b[0;34m)\u001b[0m\u001b[0;34m\u001b[0m\u001b[0;34m\u001b[0m\u001b[0m\n\u001b[0m",
      "\u001b[0;31mTypeError\u001b[0m: 'int' object is not callable"
     ]
    }
   ],
   "source": [
    "sum(scores)"
   ]
  },
  {
   "cell_type": "code",
   "execution_count": 27,
   "metadata": {},
   "outputs": [],
   "source": [
    "del sum"
   ]
  },
  {
   "cell_type": "code",
   "execution_count": 28,
   "metadata": {},
   "outputs": [
    {
     "data": {
      "text/plain": [
       "210"
      ]
     },
     "execution_count": 28,
     "metadata": {},
     "output_type": "execute_result"
    }
   ],
   "source": [
    "sum(scores)"
   ]
  },
  {
   "cell_type": "code",
   "execution_count": 31,
   "metadata": {},
   "outputs": [],
   "source": [
    "def add_numbers(x,y):\n",
    "    return x + y\n",
    "\n",
    "def subtract_numbers(x,y):\n",
    "    return x - y\n",
    "\n",
    "def multiply_numbers(x,y):\n",
    "    return x*y\n",
    "\n",
    "def divide_numbers(x,y):\n",
    "    return x/y\n",
    "\n",
    "operator_dictionary = {'+':add_numbers,'-':subtract_numbers,\\\n",
    "                      '*': multiply_numbers, '/': divide_numbers}"
   ]
  },
  {
   "cell_type": "code",
   "execution_count": 36,
   "metadata": {},
   "outputs": [
    {
     "name": "stdout",
     "output_type": "stream",
     "text": [
      "Calculator Program:\n",
      "*******************\n",
      "Enter the first number:10\n",
      "Enter the second number:20\n",
      "Enter the operation (one of +,-,*,/):*\n"
     ]
    },
    {
     "data": {
      "text/plain": [
       "200.0"
      ]
     },
     "execution_count": 36,
     "metadata": {},
     "output_type": "execute_result"
    }
   ],
   "source": [
    "import sys\n",
    "\n",
    "print(\"Calculator Program:\")\n",
    "print(\"*\" * 19)\n",
    "sys.stdout.flush()\n",
    "\n",
    "number1 = float(input(\"Enter the first number:\"))\n",
    "number2 = float(input(\"Enter the second number:\"))\n",
    "\n",
    "operator = input(\"Enter the operation (one of +,-,*,/):\")\n",
    "\n",
    "operator_dictionary[operator](number1,number2)"
   ]
  },
  {
   "cell_type": "markdown",
   "metadata": {},
   "source": [
    "## Function Scope"
   ]
  },
  {
   "cell_type": "code",
   "execution_count": 52,
   "metadata": {},
   "outputs": [],
   "source": [
    "result = \"The result is:\""
   ]
  },
  {
   "cell_type": "code",
   "execution_count": 58,
   "metadata": {},
   "outputs": [],
   "source": [
    "result = \"The result is:\"\n",
    "def calculate(operator,number1,number2):\n",
    "\n",
    "    def add_numbers(x,y):\n",
    "        return x + y\n",
    "\n",
    "    def subtract_numbers(x,y):\n",
    "        return x - y\n",
    "\n",
    "    def multiply_numbers(x,y):\n",
    "        return x*y\n",
    "\n",
    "    def divide_numbers(x,y):\n",
    "        return x/y\n",
    "    \n",
    "    #result = \"Answer is:\"\n",
    "    \n",
    "    operator_dictionary = {'+':add_numbers,'-':subtract_numbers,\\\n",
    "                  '*': multiply_numbers, '/': divide_numbers}\n",
    "    \n",
    "    return result + str(operator_dictionary[operator](number1,number2))\n",
    "\n",
    "calculate('+',2,3)"
   ]
  },
  {
   "cell_type": "code",
   "execution_count": 59,
   "metadata": {},
   "outputs": [
    {
     "data": {
      "text/plain": [
       "'The result is:5'"
      ]
     },
     "execution_count": 59,
     "metadata": {},
     "output_type": "execute_result"
    }
   ],
   "source": [
    "calculate('+',2,3)"
   ]
  },
  {
   "cell_type": "code",
   "execution_count": 60,
   "metadata": {},
   "outputs": [
    {
     "data": {
      "text/plain": [
       "'The result is:56'"
      ]
     },
     "execution_count": 60,
     "metadata": {},
     "output_type": "execute_result"
    }
   ],
   "source": [
    "calculate('*',7,8)"
   ]
  },
  {
   "cell_type": "markdown",
   "metadata": {},
   "source": [
    "## Recursion"
   ]
  },
  {
   "cell_type": "code",
   "execution_count": 61,
   "metadata": {},
   "outputs": [],
   "source": [
    "## Factorial of numbers\n",
    "\n",
    "# 6 = 1*2*3*4*5*6"
   ]
  },
  {
   "cell_type": "code",
   "execution_count": 63,
   "metadata": {},
   "outputs": [],
   "source": [
    "def factorial(number):\n",
    "    \n",
    "    factorial = 1\n",
    "    for i in range(1,number+1):\n",
    "        factorial = factorial * i\n",
    "        \n",
    "    return factorial"
   ]
  },
  {
   "cell_type": "code",
   "execution_count": 64,
   "metadata": {},
   "outputs": [
    {
     "data": {
      "text/plain": [
       "720"
      ]
     },
     "execution_count": 64,
     "metadata": {},
     "output_type": "execute_result"
    }
   ],
   "source": [
    "factorial(6)"
   ]
  },
  {
   "cell_type": "code",
   "execution_count": 65,
   "metadata": {},
   "outputs": [
    {
     "data": {
      "text/plain": [
       "120"
      ]
     },
     "execution_count": 65,
     "metadata": {},
     "output_type": "execute_result"
    }
   ],
   "source": [
    "factorial(5)"
   ]
  },
  {
   "cell_type": "markdown",
   "metadata": {},
   "source": [
    "### Using Recursion"
   ]
  },
  {
   "cell_type": "code",
   "execution_count": 70,
   "metadata": {},
   "outputs": [],
   "source": [
    "# factorial(5) = factorial(4) * 5\n",
    "# factorial(10) = factorial(9) * 10\n",
    "\n",
    "def factorial(number):\n",
    "    \n",
    "    if number == 1:\n",
    "        return number\n",
    "    else:\n",
    "        return number * factorial(number-1)\n",
    "    "
   ]
  },
  {
   "cell_type": "code",
   "execution_count": 71,
   "metadata": {},
   "outputs": [
    {
     "data": {
      "text/plain": [
       "720"
      ]
     },
     "execution_count": 71,
     "metadata": {},
     "output_type": "execute_result"
    }
   ],
   "source": [
    "factorial(6)"
   ]
  },
  {
   "cell_type": "code",
   "execution_count": null,
   "metadata": {},
   "outputs": [],
   "source": [
    "# 6\n",
    "\n",
    "# factorial(6) -> 6 * factorial(5)\n",
    "# factorial(5) -> 5 * factorial(4)\n",
    "# factorial(4) -> 4 * factorial(3)\n",
    "# factorial(3) -> 3 * factorial(2)\n",
    "# factorial(2) -> 2 * factorial(1)\n",
    "# return 1\n",
    "\n",
    "# here's what happens\n",
    "# factorial(6) -> 6 * 120\n",
    "# factorial(5) -> 5 * 24\n",
    "# factorial(4) -> 4 * 6\n",
    "# factorial(3) -> 3 * 2\n",
    "# factorial(2) -> 2 * 1\n",
    "# return 1"
   ]
  }
 ],
 "metadata": {
  "kernelspec": {
   "display_name": "Python 3",
   "language": "python",
   "name": "python3"
  },
  "language_info": {
   "codemirror_mode": {
    "name": "ipython",
    "version": 3
   },
   "file_extension": ".py",
   "mimetype": "text/x-python",
   "name": "python",
   "nbconvert_exporter": "python",
   "pygments_lexer": "ipython3",
   "version": "3.7.6"
  }
 },
 "nbformat": 4,
 "nbformat_minor": 4
}
