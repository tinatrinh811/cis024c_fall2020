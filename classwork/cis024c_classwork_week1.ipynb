{
 "cells": [
  {
   "cell_type": "code",
   "execution_count": 1,
   "metadata": {},
   "outputs": [
    {
     "data": {
      "text/plain": [
       "4"
      ]
     },
     "execution_count": 1,
     "metadata": {},
     "output_type": "execute_result"
    }
   ],
   "source": [
    "2+2"
   ]
  },
  {
   "cell_type": "code",
   "execution_count": 2,
   "metadata": {},
   "outputs": [
    {
     "data": {
      "text/plain": [
       "5"
      ]
     },
     "execution_count": 2,
     "metadata": {},
     "output_type": "execute_result"
    }
   ],
   "source": [
    "3+2"
   ]
  },
  {
   "cell_type": "code",
   "execution_count": 3,
   "metadata": {},
   "outputs": [
    {
     "data": {
      "text/plain": [
       "8"
      ]
     },
     "execution_count": 3,
     "metadata": {},
     "output_type": "execute_result"
    }
   ],
   "source": [
    "6+2"
   ]
  },
  {
   "cell_type": "code",
   "execution_count": 4,
   "metadata": {},
   "outputs": [
    {
     "data": {
      "text/plain": [
       "10"
      ]
     },
     "execution_count": 4,
     "metadata": {},
     "output_type": "execute_result"
    }
   ],
   "source": [
    "8+2"
   ]
  },
  {
   "cell_type": "code",
   "execution_count": 5,
   "metadata": {},
   "outputs": [
    {
     "data": {
      "text/plain": [
       "11"
      ]
     },
     "execution_count": 5,
     "metadata": {},
     "output_type": "execute_result"
    }
   ],
   "source": [
    "2+9"
   ]
  },
  {
   "cell_type": "code",
   "execution_count": 22,
   "metadata": {},
   "outputs": [
    {
     "name": "stdout",
     "output_type": "stream",
     "text": [
      "Enter the first number:3\n",
      "Enter the second number:3\n",
      "104\n"
     ]
    }
   ],
   "source": [
    "number1 = int(input(\"Enter the first number:\"))\n",
    "number2 = int(input(\"Enter the second number:\"))\n",
    "\n",
    "result = number1 + number2 + 98\n",
    "\n",
    "print(result)"
   ]
  },
  {
   "cell_type": "code",
   "execution_count": 24,
   "metadata": {},
   "outputs": [
    {
     "name": "stdout",
     "output_type": "stream",
     "text": [
      "Enter the first number:3\n",
      "Enter the second number:3\n",
      "81\n"
     ]
    }
   ],
   "source": [
    "number1 = int(input(\"Enter the first number:\"))\n",
    "number2 = int(input(\"Enter the second number:\"))\n",
    "\n",
    "result = number1 * number2**3\n",
    "\n",
    "print(result)"
   ]
  },
  {
   "cell_type": "code",
   "execution_count": 15,
   "metadata": {},
   "outputs": [
    {
     "data": {
      "text/plain": [
       "int"
      ]
     },
     "execution_count": 15,
     "metadata": {},
     "output_type": "execute_result"
    }
   ],
   "source": [
    "x = 9\n",
    "\n",
    "type(x)"
   ]
  },
  {
   "cell_type": "code",
   "execution_count": 16,
   "metadata": {},
   "outputs": [],
   "source": [
    "x = \"Hello\""
   ]
  },
  {
   "cell_type": "code",
   "execution_count": 17,
   "metadata": {},
   "outputs": [
    {
     "data": {
      "text/plain": [
       "str"
      ]
     },
     "execution_count": 17,
     "metadata": {},
     "output_type": "execute_result"
    }
   ],
   "source": [
    "type(x)"
   ]
  },
  {
   "cell_type": "code",
   "execution_count": 19,
   "metadata": {},
   "outputs": [],
   "source": [
    "x = True"
   ]
  },
  {
   "cell_type": "code",
   "execution_count": 20,
   "metadata": {},
   "outputs": [],
   "source": [
    "y = False"
   ]
  },
  {
   "cell_type": "code",
   "execution_count": 28,
   "metadata": {},
   "outputs": [
    {
     "name": "stdout",
     "output_type": "stream",
     "text": [
      "Enter the first number:2\n",
      "Enter the second number:2\n"
     ]
    },
    {
     "data": {
      "text/plain": [
       "True"
      ]
     },
     "execution_count": 28,
     "metadata": {},
     "output_type": "execute_result"
    }
   ],
   "source": [
    "# comparing two values - greater than or equal to\n",
    "\n",
    "number1 = int(input(\"Enter the first number:\"))\n",
    "number2 = int(input(\"Enter the second number:\"))\n",
    "\n",
    "number1 >= number2"
   ]
  },
  {
   "cell_type": "code",
   "execution_count": 29,
   "metadata": {},
   "outputs": [
    {
     "name": "stdout",
     "output_type": "stream",
     "text": [
      "Enter the first number:3\n",
      "Enter the second number:5\n"
     ]
    },
    {
     "data": {
      "text/plain": [
       "True"
      ]
     },
     "execution_count": 29,
     "metadata": {},
     "output_type": "execute_result"
    }
   ],
   "source": [
    "# comparing two values - less than\n",
    "\n",
    "number1 = int(input(\"Enter the first number:\"))\n",
    "number2 = int(input(\"Enter the second number:\"))\n",
    "\n",
    "number1 < number2"
   ]
  },
  {
   "cell_type": "code",
   "execution_count": 31,
   "metadata": {},
   "outputs": [
    {
     "name": "stdout",
     "output_type": "stream",
     "text": [
      "Enter the first number:2\n",
      "Enter the second number:3\n"
     ]
    },
    {
     "data": {
      "text/plain": [
       "False"
      ]
     },
     "execution_count": 31,
     "metadata": {},
     "output_type": "execute_result"
    }
   ],
   "source": [
    "# comparing two values  - for equality\n",
    "\n",
    "number1 = int(input(\"Enter the first number:\"))\n",
    "number2 = int(input(\"Enter the second number:\"))\n",
    "\n",
    "number1 == number2"
   ]
  },
  {
   "cell_type": "code",
   "execution_count": 33,
   "metadata": {},
   "outputs": [
    {
     "name": "stdout",
     "output_type": "stream",
     "text": [
      "Enter the first number:2\n",
      "Enter the second number:2\n"
     ]
    },
    {
     "data": {
      "text/plain": [
       "False"
      ]
     },
     "execution_count": 33,
     "metadata": {},
     "output_type": "execute_result"
    }
   ],
   "source": [
    "# comparing two values  - for not equal\n",
    "\n",
    "number1 = int(input(\"Enter the first number:\"))\n",
    "number2 = int(input(\"Enter the second number:\"))\n",
    "\n",
    "number1 != number2"
   ]
  },
  {
   "cell_type": "code",
   "execution_count": 35,
   "metadata": {},
   "outputs": [
    {
     "name": "stdout",
     "output_type": "stream",
     "text": [
      "Enter student 1 age:2\n",
      "Enter student 2 age:3\n",
      "Student 1 and Student 2 have different ages\n"
     ]
    }
   ],
   "source": [
    "# compare student age\n",
    "\n",
    "student1_age = int(input(\"Enter student 1 age:\"))\n",
    "\n",
    "student2_age = int(input(\"Enter student 2 age:\"))\n",
    "\n",
    "if student1_age == student2_age:\n",
    "    print(\"Student 1 has the same age as Student 2\")\n",
    "else:\n",
    "    print(\"Student 1 and Student 2 have different ages\")"
   ]
  },
  {
   "cell_type": "code",
   "execution_count": 2,
   "metadata": {},
   "outputs": [
    {
     "name": "stdout",
     "output_type": "stream",
     "text": [
      "Enter your Sales for the year:70000\n",
      "Commission is: 10500.0\n"
     ]
    }
   ],
   "source": [
    "### see how much commission a sales guy would get\n",
    "# did not meet target - no commission\n",
    "# meet target = 10% \n",
    "# exceed target = 15%\n",
    "\n",
    "target = 20000\n",
    "\n",
    "sales = int(input(\"Enter your Sales for the year:\"))\n",
    "\n",
    "commission = 0\n",
    "\n",
    "if sales < target:\n",
    "    commission = 0\n",
    "elif sales == target:\n",
    "    commission = 0.1 * sales\n",
    "else:\n",
    "    commission = 0.15 * sales\n",
    "    \n",
    "print(\"Commission is:\",commission)\n",
    "\n"
   ]
  },
  {
   "cell_type": "markdown",
   "metadata": {},
   "source": [
    "## Does a user have available money to withdraw in the bank\n",
    "\n"
   ]
  },
  {
   "cell_type": "code",
   "execution_count": 8,
   "metadata": {},
   "outputs": [
    {
     "name": "stdout",
     "output_type": "stream",
     "text": [
      "Enter available balance:5000\n",
      "Enter OD available (Y/N):N\n",
      "Enter amount to withdraw:6000\n",
      "User has insufficient funds and no overdraft protection\n"
     ]
    }
   ],
   "source": [
    "availableBalance = int(input(\"Enter available balance:\"))\n",
    "overdraftProtectionEnabled = input(\"Enter OD available (Y/N):\")\n",
    "\n",
    "amountToWithdraw = int(input(\"Enter amount to withdraw:\"))\n",
    "\n",
    "balanceAfterWithdrawal = availableBalance - amountToWithdraw\n",
    "\n",
    "if balanceAfterWithdrawal >= 0:\n",
    "    print(\"User has sufficient funds to withdraw\")\n",
    "elif overdraftProtectionEnabled == \"Y\":\n",
    "    print(\"User has insufficient funds but has overdraft protection enabled\")\n",
    "else:\n",
    "    print(\"User has insufficient funds and no overdraft protection\")"
   ]
  },
  {
   "cell_type": "markdown",
   "metadata": {},
   "source": [
    "## Repetition"
   ]
  },
  {
   "cell_type": "code",
   "execution_count": 9,
   "metadata": {},
   "outputs": [],
   "source": [
    "emp_1 = 50000\n",
    "emp_2 = 60000\n",
    "emp_3 = 65000\n",
    "emp_4 = 40000\n",
    "emp_5 = 45000"
   ]
  },
  {
   "cell_type": "code",
   "execution_count": 10,
   "metadata": {},
   "outputs": [],
   "source": [
    "tax_rate = 0.2"
   ]
  },
  {
   "cell_type": "code",
   "execution_count": 11,
   "metadata": {},
   "outputs": [],
   "source": [
    "salary_emp_1 = 50000 * tax_rate\n",
    "salary_emp_2 = 60000 * tax_rate\n",
    "salary_emp_3 = 65000 * tax_rate\n",
    "salary_emp_4 = 40000 * tax_rate\n",
    "salary_emp_5 = 45000 * tax_rate"
   ]
  },
  {
   "cell_type": "code",
   "execution_count": 12,
   "metadata": {},
   "outputs": [
    {
     "name": "stdout",
     "output_type": "stream",
     "text": [
      "10000.0 12000.0 13000.0 8000.0 9000.0\n"
     ]
    }
   ],
   "source": [
    "print(salary_emp_1,salary_emp_2,salary_emp_3,salary_emp_4,salary_emp_5 )"
   ]
  },
  {
   "cell_type": "markdown",
   "metadata": {},
   "source": [
    "## List"
   ]
  },
  {
   "cell_type": "code",
   "execution_count": 15,
   "metadata": {},
   "outputs": [
    {
     "data": {
      "text/plain": [
       "[50000, 60000, 65000, 40000, 45000]"
      ]
     },
     "execution_count": 15,
     "metadata": {},
     "output_type": "execute_result"
    }
   ],
   "source": [
    "employee_gross_pay = [50000,60000,65000,40000,45000]\n",
    "employee_gross_pay"
   ]
  },
  {
   "cell_type": "code",
   "execution_count": 16,
   "metadata": {},
   "outputs": [
    {
     "name": "stdout",
     "output_type": "stream",
     "text": [
      "50000\n",
      "60000\n",
      "65000\n",
      "40000\n",
      "45000\n"
     ]
    }
   ],
   "source": [
    "for gp in employee_salaries:\n",
    "    print(gp)"
   ]
  },
  {
   "cell_type": "code",
   "execution_count": 18,
   "metadata": {},
   "outputs": [
    {
     "name": "stdout",
     "output_type": "stream",
     "text": [
      "10000.0\n",
      "12000.0\n",
      "13000.0\n",
      "8000.0\n",
      "9000.0\n"
     ]
    }
   ],
   "source": [
    "for gp in employee_gross_pay:\n",
    "    net_salary = gp * tax_rate\n",
    "    print(net_salary)"
   ]
  },
  {
   "cell_type": "code",
   "execution_count": 20,
   "metadata": {},
   "outputs": [
    {
     "data": {
      "text/plain": [
       "[0, 1, 2, 3, 4, 5, 6, 7, 8, 9, 10, 11, 12, 13, 14, 15, 16, 17, 18, 19]"
      ]
     },
     "execution_count": 20,
     "metadata": {},
     "output_type": "execute_result"
    }
   ],
   "source": [
    "list(range(100000))"
   ]
  },
  {
   "cell_type": "code",
   "execution_count": 21,
   "metadata": {},
   "outputs": [
    {
     "data": {
      "text/plain": [
       "[2, 3, 4, 5, 6, 7, 8, 9, 10, 11, 12, 13, 14, 15, 16, 17, 18, 19]"
      ]
     },
     "execution_count": 21,
     "metadata": {},
     "output_type": "execute_result"
    }
   ],
   "source": [
    "list(range(2,20))"
   ]
  },
  {
   "cell_type": "code",
   "execution_count": 22,
   "metadata": {},
   "outputs": [],
   "source": [
    "net_salaries = []\n",
    "for gp in range(100000):\n",
    "    net_salary = gp * tax_rate\n",
    "    net_salaries.append(net_salary)"
   ]
  },
  {
   "cell_type": "code",
   "execution_count": 24,
   "metadata": {},
   "outputs": [
    {
     "data": {
      "text/plain": [
       "[0.0,\n",
       " 0.2,\n",
       " 0.4,\n",
       " 0.6000000000000001,\n",
       " 0.8,\n",
       " 1.0,\n",
       " 1.2000000000000002,\n",
       " 1.4000000000000001,\n",
       " 1.6,\n",
       " 1.8]"
      ]
     },
     "execution_count": 24,
     "metadata": {},
     "output_type": "execute_result"
    }
   ],
   "source": [
    "net_salaries[:10]"
   ]
  },
  {
   "cell_type": "markdown",
   "metadata": {},
   "source": [
    "## Another example of using the  loop"
   ]
  },
  {
   "cell_type": "code",
   "execution_count": 28,
   "metadata": {},
   "outputs": [
    {
     "name": "stdout",
     "output_type": "stream",
     "text": [
      "Enter your salary(must be greater than 10000):8000\n",
      "Enter your salary(must be greater than 10000):8000\n",
      "Enter your salary(must be greater than 10000):8000\n"
     ]
    }
   ],
   "source": [
    "salary = int(input(\"Enter your salary(must be greater than 10000):\"))\n",
    "if salary < 10000:\n",
    "    salary = int(input(\"Enter your salary(must be greater than 10000):\"))\n",
    "    if salary < 10000:\n",
    "        salary = int(input(\"Enter your salary(must be greater than 10000):\"))"
   ]
  },
  {
   "cell_type": "markdown",
   "metadata": {},
   "source": [
    "## While Loop"
   ]
  },
  {
   "cell_type": "code",
   "execution_count": 29,
   "metadata": {},
   "outputs": [
    {
     "name": "stdout",
     "output_type": "stream",
     "text": [
      "Enter your salary(must be greater than 10000):8000\n",
      "Salary must be greater than 10000. Please try again\n",
      "Enter your salary(must be greater than 10000):8000\n",
      "Salary must be greater than 10000. Please try again\n",
      "Enter your salary(must be greater than 10000):8000\n",
      "Salary must be greater than 10000. Please try again\n",
      "Enter your salary(must be greater than 10000):8000\n",
      "Salary must be greater than 10000. Please try again\n",
      "Enter your salary(must be greater than 10000):8000\n",
      "Salary must be greater than 10000. Please try again\n",
      "Enter your salary(must be greater than 10000):8000\n",
      "Salary must be greater than 10000. Please try again\n",
      "Enter your salary(must be greater than 10000):11000\n"
     ]
    }
   ],
   "source": [
    "while True:\n",
    "    salary = int(input(\"Enter your salary(must be greater than 10000):\"))\n",
    "    if salary <= 10000:\n",
    "        print(\"Salary must be greater than 10000. Please try again\")\n",
    "    else:\n",
    "        break"
   ]
  },
  {
   "cell_type": "code",
   "execution_count": 31,
   "metadata": {},
   "outputs": [
    {
     "name": "stdout",
     "output_type": "stream",
     "text": [
      "Enter your salary(must be greater than 10000):8000\n",
      "Salary must be greater than 10000. Please try again\n",
      "Enter your salary(must be greater than 10000):11000\n"
     ]
    }
   ],
   "source": [
    "while True:\n",
    "    salary = int(input(\"Enter your salary(must be greater than 10000):\"))\n",
    "    if salary <= 10000:\n",
    "        print(\"Salary must be greater than 10000. Please try again\")\n",
    "        continue\n",
    "    \n",
    "    break"
   ]
  },
  {
   "cell_type": "code",
   "execution_count": null,
   "metadata": {},
   "outputs": [],
   "source": []
  }
 ],
 "metadata": {
  "kernelspec": {
   "display_name": "Python 3",
   "language": "python",
   "name": "python3"
  },
  "language_info": {
   "codemirror_mode": {
    "name": "ipython",
    "version": 3
   },
   "file_extension": ".py",
   "mimetype": "text/x-python",
   "name": "python",
   "nbconvert_exporter": "python",
   "pygments_lexer": "ipython3",
   "version": "3.7.6"
  }
 },
 "nbformat": 4,
 "nbformat_minor": 4
}
