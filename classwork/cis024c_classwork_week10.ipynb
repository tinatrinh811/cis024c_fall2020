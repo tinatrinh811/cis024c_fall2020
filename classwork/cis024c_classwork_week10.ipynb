{
 "cells": [
  {
   "cell_type": "markdown",
   "metadata": {},
   "source": [
    "## Command Line Input"
   ]
  },
  {
   "cell_type": "code",
   "execution_count": 1,
   "metadata": {},
   "outputs": [
    {
     "name": "stdout",
     "output_type": "stream",
     "text": [
      "Writing test_cmdline.py\n"
     ]
    }
   ],
   "source": [
    "%%writefile test_cmdline.py\n",
    "\n",
    "import sys\n",
    "\n",
    "if len(sys.argv) != 3:\n",
    "    print(\"Please use the following syntax:\")\n",
    "    print(\"python test_cmdline.py <number1> <number2>\")\n",
    "    sys.exit(-1)\n",
    "    \n",
    "try:\n",
    "    n1 = float(sys.argv[1])\n",
    "    n2 = float(sys.argv[2])\n",
    "except ValueError as error:\n",
    "    print(\"Please enter numerical values for the numbers\")\n",
    "    sys.exit(-1)\n",
    "    \n",
    "result = n1 + n2\n",
    "\n",
    "print(\"Addition result:\", result)"
   ]
  },
  {
   "cell_type": "code",
   "execution_count": 2,
   "metadata": {},
   "outputs": [
    {
     "name": "stdout",
     "output_type": "stream",
     "text": [
      "/Users/sddorair/Personal/SJCC/cis24c/cis024c_fall_2020/classwork\r\n"
     ]
    }
   ],
   "source": [
    "!pwd"
   ]
  },
  {
   "cell_type": "markdown",
   "metadata": {},
   "source": [
    "## Object Oriented Programming"
   ]
  },
  {
   "cell_type": "code",
   "execution_count": 3,
   "metadata": {},
   "outputs": [],
   "source": [
    "# one type of variable is a scalar\n",
    "\n",
    "a = 2\n",
    "name = \"Amy\"\n",
    "amount = 20.32"
   ]
  },
  {
   "cell_type": "code",
   "execution_count": 6,
   "metadata": {},
   "outputs": [],
   "source": [
    "# other type of variable that we saw were collections aka vectors\n",
    "# these can take multiple values\n",
    "\n",
    "grocery_list = ['sugar','coffee','milk']\n",
    "numbers = [1,2,3,4,5]\n",
    "employee_dictionary = {123:'Harry',233:'Mary'}"
   ]
  },
  {
   "cell_type": "code",
   "execution_count": 5,
   "metadata": {},
   "outputs": [
    {
     "data": {
      "text/plain": [
       "'Harry'"
      ]
     },
     "execution_count": 5,
     "metadata": {},
     "output_type": "execute_result"
    }
   ],
   "source": [
    "employee_dictionary[123]"
   ]
  },
  {
   "cell_type": "code",
   "execution_count": 7,
   "metadata": {},
   "outputs": [],
   "source": [
    "grocery_list.append('eggs')"
   ]
  },
  {
   "cell_type": "code",
   "execution_count": 8,
   "metadata": {},
   "outputs": [
    {
     "data": {
      "text/plain": [
       "['sugar', 'coffee', 'milk', 'eggs']"
      ]
     },
     "execution_count": 8,
     "metadata": {},
     "output_type": "execute_result"
    }
   ],
   "source": [
    "grocery_list"
   ]
  },
  {
   "cell_type": "code",
   "execution_count": 9,
   "metadata": {},
   "outputs": [
    {
     "data": {
      "text/plain": [
       "1"
      ]
     },
     "execution_count": 9,
     "metadata": {},
     "output_type": "execute_result"
    }
   ],
   "source": [
    "grocery_list.count('sugar')"
   ]
  },
  {
   "cell_type": "code",
   "execution_count": 10,
   "metadata": {},
   "outputs": [
    {
     "data": {
      "text/plain": [
       "4"
      ]
     },
     "execution_count": 10,
     "metadata": {},
     "output_type": "execute_result"
    }
   ],
   "source": [
    "len(grocery_list)"
   ]
  },
  {
   "cell_type": "markdown",
   "metadata": {},
   "source": [
    "### Classes"
   ]
  },
  {
   "cell_type": "code",
   "execution_count": 19,
   "metadata": {},
   "outputs": [],
   "source": [
    "class Employee:\n",
    "    \n",
    "    def __init__(self, id, name, salary):\n",
    "        \n",
    "        self.id = id\n",
    "        self.name = name\n",
    "        self.salary = salary\n",
    "        \n",
    "    def increment_salary(self, rate):\n",
    "        \n",
    "        self.salary = self.salary * (1+rate)"
   ]
  },
  {
   "cell_type": "code",
   "execution_count": 20,
   "metadata": {},
   "outputs": [
    {
     "data": {
      "text/plain": [
       "__main__.Employee"
      ]
     },
     "execution_count": 20,
     "metadata": {},
     "output_type": "execute_result"
    }
   ],
   "source": [
    "Employee"
   ]
  },
  {
   "cell_type": "code",
   "execution_count": 21,
   "metadata": {},
   "outputs": [],
   "source": [
    "employee = Employee(123,'Harry',23234)"
   ]
  },
  {
   "cell_type": "code",
   "execution_count": 22,
   "metadata": {},
   "outputs": [
    {
     "data": {
      "text/plain": [
       "<__main__.Employee at 0x109f6b950>"
      ]
     },
     "execution_count": 22,
     "metadata": {},
     "output_type": "execute_result"
    }
   ],
   "source": [
    "employee"
   ]
  },
  {
   "cell_type": "code",
   "execution_count": 23,
   "metadata": {},
   "outputs": [
    {
     "data": {
      "text/plain": [
       "123"
      ]
     },
     "execution_count": 23,
     "metadata": {},
     "output_type": "execute_result"
    }
   ],
   "source": [
    "employee.id"
   ]
  },
  {
   "cell_type": "code",
   "execution_count": 24,
   "metadata": {},
   "outputs": [
    {
     "data": {
      "text/plain": [
       "'Harry'"
      ]
     },
     "execution_count": 24,
     "metadata": {},
     "output_type": "execute_result"
    }
   ],
   "source": [
    "employee.name"
   ]
  },
  {
   "cell_type": "code",
   "execution_count": 25,
   "metadata": {},
   "outputs": [
    {
     "data": {
      "text/plain": [
       "23234"
      ]
     },
     "execution_count": 25,
     "metadata": {},
     "output_type": "execute_result"
    }
   ],
   "source": [
    "employee.salary"
   ]
  },
  {
   "cell_type": "code",
   "execution_count": 26,
   "metadata": {},
   "outputs": [],
   "source": [
    "employee.increment_salary(0.05)"
   ]
  },
  {
   "cell_type": "code",
   "execution_count": 27,
   "metadata": {},
   "outputs": [
    {
     "data": {
      "text/plain": [
       "24395.7"
      ]
     },
     "execution_count": 27,
     "metadata": {},
     "output_type": "execute_result"
    }
   ],
   "source": [
    "employee.salary"
   ]
  },
  {
   "cell_type": "markdown",
   "metadata": {},
   "source": [
    "### Write a program to read salary data and then update salary data"
   ]
  },
  {
   "cell_type": "code",
   "execution_count": 46,
   "metadata": {},
   "outputs": [],
   "source": [
    "class Employee:\n",
    "    \n",
    "    count = 0\n",
    "    \n",
    "    def __init__(self, id, name, salary):\n",
    "        \n",
    "        self.id = id\n",
    "        self.name = name\n",
    "        self.salary = salary\n",
    "        \n",
    "        # increment employee count\n",
    "        Employee.count += 1\n",
    "        \n",
    "    def increment_salary(self, rate):\n",
    "        \n",
    "        self.salary = self.salary * (1+rate)"
   ]
  },
  {
   "cell_type": "code",
   "execution_count": 52,
   "metadata": {},
   "outputs": [],
   "source": [
    "employees = []"
   ]
  },
  {
   "cell_type": "code",
   "execution_count": 55,
   "metadata": {},
   "outputs": [
    {
     "name": "stdout",
     "output_type": "stream",
     "text": [
      "Running counter: 31\n",
      "Running counter: 32\n",
      "Running counter: 33\n",
      "Running counter: 34\n",
      "Running counter: 35\n",
      "Running counter: 36\n",
      "Running counter: 37\n",
      "Running counter: 38\n",
      "Running counter: 39\n",
      "Running counter: 40\n"
     ]
    }
   ],
   "source": [
    "rate = 0.05\n",
    "\n",
    "emp_file = open('employee_info.csv','r')\n",
    "for employee in emp_file:\n",
    "    \n",
    "    # get data from file\n",
    "    id,name,salary = employee.strip().split(',')\n",
    "    salary = float(salary)\n",
    "    \n",
    "    employee = Employee(id,name,salary)\n",
    "    employees.append(employee)\n",
    "    print(\"Running counter:\",employee.count)\n",
    "    \n",
    "emp_file.close()\n",
    "\n",
    "# write updated salary\n",
    "emp_file = open('employee_info.csv','w')\n",
    "for employee in employees:\n",
    "    # increment the salary\n",
    "    employee.increment_salary(0.05)\n",
    "    \n",
    "    # write the data back to the file\n",
    "    write_data = employee.id + \",\" + employee.name + \",\" + str(round(employee.salary,2)) + \"\\n\"\n",
    "    \n",
    "    emp_file.write(write_data)\n",
    "emp_file.close()"
   ]
  },
  {
   "cell_type": "code",
   "execution_count": 48,
   "metadata": {},
   "outputs": [
    {
     "data": {
      "text/plain": [
       "5"
      ]
     },
     "execution_count": 48,
     "metadata": {},
     "output_type": "execute_result"
    }
   ],
   "source": [
    "Employee.count"
   ]
  },
  {
   "cell_type": "code",
   "execution_count": 56,
   "metadata": {},
   "outputs": [
    {
     "data": {
      "text/plain": [
       "[<__main__.Employee at 0x10a381690>,\n",
       " <__main__.Employee at 0x10a39ad90>,\n",
       " <__main__.Employee at 0x10a39a890>,\n",
       " <__main__.Employee at 0x109f85c10>,\n",
       " <__main__.Employee at 0x109f856d0>,\n",
       " <__main__.Employee at 0x109f65610>,\n",
       " <__main__.Employee at 0x1096c7250>,\n",
       " <__main__.Employee at 0x109f9b690>,\n",
       " <__main__.Employee at 0x109ba37d0>,\n",
       " <__main__.Employee at 0x109791410>,\n",
       " <__main__.Employee at 0x1096ec090>,\n",
       " <__main__.Employee at 0x109c80a50>,\n",
       " <__main__.Employee at 0x109c80cd0>,\n",
       " <__main__.Employee at 0x109fad890>,\n",
       " <__main__.Employee at 0x109d439d0>,\n",
       " <__main__.Employee at 0x109775b90>,\n",
       " <__main__.Employee at 0x1097a40d0>,\n",
       " <__main__.Employee at 0x109ac8a90>,\n",
       " <__main__.Employee at 0x109bce3d0>,\n",
       " <__main__.Employee at 0x109bdc0d0>]"
      ]
     },
     "execution_count": 56,
     "metadata": {},
     "output_type": "execute_result"
    }
   ],
   "source": [
    "employees"
   ]
  },
  {
   "cell_type": "code",
   "execution_count": 57,
   "metadata": {},
   "outputs": [
    {
     "ename": "NameError",
     "evalue": "name '__dict__' is not defined",
     "output_type": "error",
     "traceback": [
      "\u001b[0;31m---------------------------------------------------------------------------\u001b[0m",
      "\u001b[0;31mNameError\u001b[0m                                 Traceback (most recent call last)",
      "\u001b[0;32m<ipython-input-57-b09e675a77c0>\u001b[0m in \u001b[0;36m<module>\u001b[0;34m\u001b[0m\n\u001b[0;32m----> 1\u001b[0;31m \u001b[0m__dict__\u001b[0m\u001b[0;34m(\u001b[0m\u001b[0mEmployee\u001b[0m\u001b[0;34m)\u001b[0m\u001b[0;34m\u001b[0m\u001b[0;34m\u001b[0m\u001b[0m\n\u001b[0m",
      "\u001b[0;31mNameError\u001b[0m: name '__dict__' is not defined"
     ]
    }
   ],
   "source": [
    "__dict__(Employee)"
   ]
  },
  {
   "cell_type": "code",
   "execution_count": 58,
   "metadata": {},
   "outputs": [
    {
     "data": {
      "text/plain": [
       "mappingproxy({'__module__': '__main__',\n",
       "              'count': 40,\n",
       "              '__init__': <function __main__.Employee.__init__(self, id, name, salary)>,\n",
       "              'increment_salary': <function __main__.Employee.increment_salary(self, rate)>,\n",
       "              '__dict__': <attribute '__dict__' of 'Employee' objects>,\n",
       "              '__weakref__': <attribute '__weakref__' of 'Employee' objects>,\n",
       "              '__doc__': None})"
      ]
     },
     "execution_count": 58,
     "metadata": {},
     "output_type": "execute_result"
    }
   ],
   "source": [
    "Employee.__dict__"
   ]
  },
  {
   "cell_type": "code",
   "execution_count": 59,
   "metadata": {},
   "outputs": [],
   "source": [
    "Employee.__doc__"
   ]
  },
  {
   "cell_type": "markdown",
   "metadata": {},
   "source": [
    "### Inheritance"
   ]
  },
  {
   "cell_type": "code",
   "execution_count": 61,
   "metadata": {},
   "outputs": [],
   "source": [
    "class Employee:\n",
    "    \n",
    "    count = 0\n",
    "    \n",
    "    def __init__(self, id, name, salary):\n",
    "        \n",
    "        self.id = id\n",
    "        self.name = name\n",
    "        self.salary = salary\n",
    "        \n",
    "        # increment employee count\n",
    "        Employee.count += 1\n",
    "        \n",
    "    def increment_salary(self, rate):\n",
    "        \n",
    "        self.salary = self.salary * (1+rate)"
   ]
  },
  {
   "cell_type": "code",
   "execution_count": 79,
   "metadata": {},
   "outputs": [],
   "source": [
    "class Faculty(Employee):\n",
    "    \n",
    "    def __init__(self, id,name, salary, dept_name):\n",
    "        self.dept_name = dept_name\n",
    "        \n",
    "        super().__init__(id,name,salary)\n",
    "        \n",
    "    def display_dept_name(self):\n",
    "        print(\"Department Name:\",self.dept_name)\n",
    "        \n",
    "    def increment_salary(self, rate, bonus):\n",
    "        \n",
    "        self.salary = self.salary * (1+rate) + bonus"
   ]
  },
  {
   "cell_type": "code",
   "execution_count": 80,
   "metadata": {},
   "outputs": [],
   "source": [
    "faculty1 = Faculty(1,'Bob',23233,'Chemistry')"
   ]
  },
  {
   "cell_type": "code",
   "execution_count": 81,
   "metadata": {},
   "outputs": [
    {
     "data": {
      "text/plain": [
       "(1, 'Bob', 23233, 'Chemistry')"
      ]
     },
     "execution_count": 81,
     "metadata": {},
     "output_type": "execute_result"
    }
   ],
   "source": [
    "faculty1.id,faculty1.name,faculty1.salary,faculty1.dept_name"
   ]
  },
  {
   "cell_type": "code",
   "execution_count": 83,
   "metadata": {},
   "outputs": [],
   "source": [
    "faculty1.increment_salary(0.02,5000)"
   ]
  },
  {
   "cell_type": "code",
   "execution_count": 84,
   "metadata": {},
   "outputs": [
    {
     "data": {
      "text/plain": [
       "(1, 'Bob', 28697.66, 'Chemistry')"
      ]
     },
     "execution_count": 84,
     "metadata": {},
     "output_type": "execute_result"
    }
   ],
   "source": [
    "faculty1.id,faculty1.name,faculty1.salary,faculty1.dept_name"
   ]
  },
  {
   "cell_type": "code",
   "execution_count": 78,
   "metadata": {},
   "outputs": [
    {
     "name": "stdout",
     "output_type": "stream",
     "text": [
      "Department Name: Chemistry\n"
     ]
    }
   ],
   "source": [
    "faculty1.display_dept_name()"
   ]
  },
  {
   "cell_type": "markdown",
   "metadata": {},
   "source": [
    "### Overloading Operators"
   ]
  },
  {
   "cell_type": "code",
   "execution_count": 110,
   "metadata": {},
   "outputs": [],
   "source": [
    "class Name:\n",
    "    \n",
    "    def __init__(self,first_name,last_name):\n",
    "        self.first_name = first_name\n",
    "        self.last_name = last_name\n",
    "        \n",
    "    def display_name(self):\n",
    "        print(\"First Name:%s\\nLast Name:%s\" % (self.first_name,self.last_name))\n",
    "        \n",
    "    def __len__(self):\n",
    "        return len(self.first_name) + len(self.last_name)\n",
    "    \n",
    "    def __str__(self):\n",
    "        return self.first_name + \" \" + self.last_name"
   ]
  },
  {
   "cell_type": "code",
   "execution_count": 111,
   "metadata": {},
   "outputs": [],
   "source": [
    "myName = Name(\"Bob\",\"Martin\")"
   ]
  },
  {
   "cell_type": "code",
   "execution_count": 112,
   "metadata": {},
   "outputs": [
    {
     "name": "stdout",
     "output_type": "stream",
     "text": [
      "First Name:Bob\n",
      "Last Name:Martin\n"
     ]
    }
   ],
   "source": [
    "myName.display_name()"
   ]
  },
  {
   "cell_type": "code",
   "execution_count": 113,
   "metadata": {},
   "outputs": [
    {
     "data": {
      "text/plain": [
       "9"
      ]
     },
     "execution_count": 113,
     "metadata": {},
     "output_type": "execute_result"
    }
   ],
   "source": [
    "len(myName)"
   ]
  },
  {
   "cell_type": "code",
   "execution_count": 114,
   "metadata": {},
   "outputs": [],
   "source": [
    "grocery_list = ['sugar','coffee']"
   ]
  },
  {
   "cell_type": "code",
   "execution_count": 115,
   "metadata": {},
   "outputs": [
    {
     "name": "stdout",
     "output_type": "stream",
     "text": [
      "['sugar', 'coffee']\n"
     ]
    }
   ],
   "source": [
    "print(grocery_list)"
   ]
  },
  {
   "cell_type": "code",
   "execution_count": 116,
   "metadata": {},
   "outputs": [
    {
     "name": "stdout",
     "output_type": "stream",
     "text": [
      "Bob Martin\n"
     ]
    }
   ],
   "source": [
    "print(myName)"
   ]
  },
  {
   "cell_type": "markdown",
   "metadata": {},
   "source": [
    "### Example: Operator Overloading using a Point class"
   ]
  },
  {
   "cell_type": "code",
   "execution_count": 132,
   "metadata": {},
   "outputs": [],
   "source": [
    "class Point:\n",
    "    \n",
    "    def __init__(self,x,y):\n",
    "        self.x = x\n",
    "        self.y = y\n",
    "        \n",
    "    def __str__(self):\n",
    "        return \"(\" + str(self.x) + \",\" + str(self.y) + \")\"\n",
    "    \n",
    "    def __add__(self, other):\n",
    "        \n",
    "        x = self.x + other.x\n",
    "        y = self.y + other.y\n",
    "        \n",
    "        return Point(x,y)"
   ]
  },
  {
   "cell_type": "code",
   "execution_count": 133,
   "metadata": {},
   "outputs": [],
   "source": [
    "point1 = Point(2,3)\n",
    "point2 = Point(6,7)"
   ]
  },
  {
   "cell_type": "code",
   "execution_count": 134,
   "metadata": {},
   "outputs": [
    {
     "name": "stdout",
     "output_type": "stream",
     "text": [
      "(2,3)\n",
      "(6,7)\n"
     ]
    }
   ],
   "source": [
    "print(point1)\n",
    "print(point2)"
   ]
  },
  {
   "cell_type": "code",
   "execution_count": 136,
   "metadata": {},
   "outputs": [],
   "source": [
    "point3 = point1 + point2"
   ]
  },
  {
   "cell_type": "code",
   "execution_count": 137,
   "metadata": {},
   "outputs": [
    {
     "name": "stdout",
     "output_type": "stream",
     "text": [
      "(8,10)\n"
     ]
    }
   ],
   "source": [
    "print(point3)"
   ]
  },
  {
   "cell_type": "code",
   "execution_count": null,
   "metadata": {},
   "outputs": [],
   "source": []
  }
 ],
 "metadata": {
  "kernelspec": {
   "display_name": "Python 3",
   "language": "python",
   "name": "python3"
  },
  "language_info": {
   "codemirror_mode": {
    "name": "ipython",
    "version": 3
   },
   "file_extension": ".py",
   "mimetype": "text/x-python",
   "name": "python",
   "nbconvert_exporter": "python",
   "pygments_lexer": "ipython3",
   "version": "3.7.6"
  }
 },
 "nbformat": 4,
 "nbformat_minor": 4
}
