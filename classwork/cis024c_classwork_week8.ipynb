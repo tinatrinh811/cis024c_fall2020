{
 "cells": [
  {
   "cell_type": "markdown",
   "metadata": {},
   "source": [
    "## Last Week - Exception Handling"
   ]
  },
  {
   "cell_type": "code",
   "execution_count": 5,
   "metadata": {},
   "outputs": [
    {
     "name": "stdout",
     "output_type": "stream",
     "text": [
      "Enter your employee salary:90000\n",
      "Salary type: <class 'str'>\n",
      "Exception occurred: can't multiply sequence by non-int of type 'float'\n",
      "Your tax is: 0\n"
     ]
    }
   ],
   "source": [
    "employee_salary = input(\"Enter your employee salary:\")\n",
    "\n",
    "print(\"Salary type:\",type(employee_salary))\n",
    "\n",
    "try:\n",
    "    tax = employee_salary * 0.15\n",
    "except TypeError as error:\n",
    "    print(\"Exception occurred:\",error)\n",
    "    tax = 0\n",
    "except Exception as error:\n",
    "    print(\"Some other exception occurred:\"error)\n",
    "    tax = 0\n",
    "\n",
    "print(\"Your tax is:\", tax)"
   ]
  },
  {
   "cell_type": "code",
   "execution_count": 9,
   "metadata": {},
   "outputs": [
    {
     "name": "stdout",
     "output_type": "stream",
     "text": [
      "Enter your employee salary:9000s\n",
      "ValueError occurred. Please try again\n",
      "Enter your employee salary:90000\n",
      "Your tax is: 13500.0\n"
     ]
    }
   ],
   "source": [
    "while True:\n",
    "    try:\n",
    "        employee_salary = float(input(\"Enter your employee salary:\"))\n",
    "        tax = employee_salary * 0.15\n",
    "        break\n",
    "\n",
    "    except ValueError as error:\n",
    "        print(\"ValueError occurred. Please try again\")\n",
    "        continue\n",
    "        \n",
    "    except Exception as error:\n",
    "        print(\"Exception occurred:\",error)\n",
    "        continue\n",
    "        \n",
    "print(\"Your tax is:\", tax)"
   ]
  },
  {
   "cell_type": "markdown",
   "metadata": {},
   "source": [
    "## Working with Modules"
   ]
  },
  {
   "cell_type": "code",
   "execution_count": 13,
   "metadata": {},
   "outputs": [
    {
     "name": "stdout",
     "output_type": "stream",
     "text": [
      "Writing calculate.py\n"
     ]
    }
   ],
   "source": [
    "%%writefile calculate.py\n",
    "\n",
    "def add_numbers(number1, number2):\n",
    "    return number1 + number2\n",
    "\n",
    "def subtract_numbers(number1, number2):\n",
    "    return number1 - number2\n",
    "\n",
    "def multiply_numbers(number1, number2):\n",
    "    return number1 * number2\n",
    "\n",
    "def divide_numbers(number1, number2):\n",
    "    return number1/number2\n",
    "\n",
    "def Calculate(number1, number2, operator = '+'):\n",
    "    \n",
    "    if operator == '+':\n",
    "        return add_numbers(number1, number2)\n",
    "    elif operator == '-':\n",
    "        return subtract_numbers(number1, number2)\n",
    "    elif operator == '*':\n",
    "        return multiply_numbers(number1, number2)\n",
    "    elif operator == '/':\n",
    "        return divide_numbers(number1, number2)\n",
    "    else:\n",
    "        print(\"Unrecognized Operator:\", operator)\n",
    "        return None"
   ]
  },
  {
   "cell_type": "code",
   "execution_count": 15,
   "metadata": {},
   "outputs": [
    {
     "name": "stdout",
     "output_type": "stream",
     "text": [
      "\r\n",
      "def add_numbers(number1, number2):\r\n",
      "    return number1 + number2\r\n",
      "\r\n",
      "def subtract_numbers(number1, number2):\r\n",
      "    return number1 - number2\r\n",
      "\r\n",
      "def multiply_numbers(number1, number2):\r\n",
      "    return number1 * number2\r\n",
      "\r\n",
      "def divide_numbers(number1, number2):\r\n",
      "    return number1/number2\r\n",
      "\r\n",
      "def Calculate(number1, number2, operator = '+'):\r\n",
      "    \r\n",
      "    if operator == '+':\r\n",
      "        return add_numbers(number1, number2)\r\n",
      "    elif operator == '-':\r\n",
      "        return subtract_numbers(number1, number2)\r\n",
      "    elif operator == '*':\r\n",
      "        return multiply_numbers(number1, number2)\r\n",
      "    elif operator == '/':\r\n",
      "        return divide_numbers(number1, number2)\r\n",
      "    else:\r\n",
      "        print(\"Unrecognized Operator:\", operator)\r\n",
      "        return None\r\n"
     ]
    }
   ],
   "source": [
    "!cat calculate.py"
   ]
  },
  {
   "cell_type": "code",
   "execution_count": 16,
   "metadata": {},
   "outputs": [],
   "source": [
    "del Calculate"
   ]
  },
  {
   "cell_type": "code",
   "execution_count": 17,
   "metadata": {},
   "outputs": [
    {
     "ename": "NameError",
     "evalue": "name 'Calculate' is not defined",
     "output_type": "error",
     "traceback": [
      "\u001b[0;31m---------------------------------------------------------------------------\u001b[0m",
      "\u001b[0;31mNameError\u001b[0m                                 Traceback (most recent call last)",
      "\u001b[0;32m<ipython-input-17-d81a5a1e5c48>\u001b[0m in \u001b[0;36m<module>\u001b[0;34m\u001b[0m\n\u001b[0;32m----> 1\u001b[0;31m \u001b[0mCalculate\u001b[0m\u001b[0;34m(\u001b[0m\u001b[0;36m5\u001b[0m\u001b[0;34m,\u001b[0m\u001b[0;36m10\u001b[0m\u001b[0;34m,\u001b[0m\u001b[0;34m'*'\u001b[0m\u001b[0;34m)\u001b[0m\u001b[0;34m\u001b[0m\u001b[0;34m\u001b[0m\u001b[0m\n\u001b[0m",
      "\u001b[0;31mNameError\u001b[0m: name 'Calculate' is not defined"
     ]
    }
   ],
   "source": [
    "Calculate(5,10,'*')"
   ]
  },
  {
   "cell_type": "code",
   "execution_count": 19,
   "metadata": {},
   "outputs": [],
   "source": [
    "import math"
   ]
  },
  {
   "cell_type": "code",
   "execution_count": 20,
   "metadata": {},
   "outputs": [
    {
     "data": {
      "text/plain": [
       "3.141592653589793"
      ]
     },
     "execution_count": 20,
     "metadata": {},
     "output_type": "execute_result"
    }
   ],
   "source": [
    "math.pi"
   ]
  },
  {
   "cell_type": "code",
   "execution_count": 21,
   "metadata": {},
   "outputs": [
    {
     "data": {
      "text/plain": [
       "4.605170185988092"
      ]
     },
     "execution_count": 21,
     "metadata": {},
     "output_type": "execute_result"
    }
   ],
   "source": [
    "math.log(100)"
   ]
  },
  {
   "cell_type": "code",
   "execution_count": 22,
   "metadata": {},
   "outputs": [],
   "source": [
    "import calculate"
   ]
  },
  {
   "cell_type": "code",
   "execution_count": 23,
   "metadata": {},
   "outputs": [
    {
     "data": {
      "text/plain": [
       "5"
      ]
     },
     "execution_count": 23,
     "metadata": {},
     "output_type": "execute_result"
    }
   ],
   "source": [
    "calculate.Calculate(2,3)"
   ]
  },
  {
   "cell_type": "markdown",
   "metadata": {},
   "source": [
    "### Variations in imports"
   ]
  },
  {
   "cell_type": "code",
   "execution_count": 24,
   "metadata": {},
   "outputs": [],
   "source": [
    "del calculate"
   ]
  },
  {
   "cell_type": "code",
   "execution_count": 26,
   "metadata": {},
   "outputs": [],
   "source": [
    "from calculate import Calculate"
   ]
  },
  {
   "cell_type": "code",
   "execution_count": 27,
   "metadata": {},
   "outputs": [
    {
     "data": {
      "text/plain": [
       "5"
      ]
     },
     "execution_count": 27,
     "metadata": {},
     "output_type": "execute_result"
    }
   ],
   "source": [
    "Calculate(2,3)"
   ]
  },
  {
   "cell_type": "code",
   "execution_count": 28,
   "metadata": {},
   "outputs": [
    {
     "data": {
      "text/plain": [
       "18"
      ]
     },
     "execution_count": 28,
     "metadata": {},
     "output_type": "execute_result"
    }
   ],
   "source": [
    "Calculate(3,6,'*')"
   ]
  },
  {
   "cell_type": "code",
   "execution_count": 29,
   "metadata": {},
   "outputs": [],
   "source": [
    "del Calculate"
   ]
  },
  {
   "cell_type": "code",
   "execution_count": 30,
   "metadata": {},
   "outputs": [
    {
     "ename": "NameError",
     "evalue": "name 'Calculate' is not defined",
     "output_type": "error",
     "traceback": [
      "\u001b[0;31m---------------------------------------------------------------------------\u001b[0m",
      "\u001b[0;31mNameError\u001b[0m                                 Traceback (most recent call last)",
      "\u001b[0;32m<ipython-input-30-171290864967>\u001b[0m in \u001b[0;36m<module>\u001b[0;34m\u001b[0m\n\u001b[0;32m----> 1\u001b[0;31m \u001b[0mCalculate\u001b[0m\u001b[0;34m\u001b[0m\u001b[0;34m\u001b[0m\u001b[0m\n\u001b[0m",
      "\u001b[0;31mNameError\u001b[0m: name 'Calculate' is not defined"
     ]
    }
   ],
   "source": [
    "Calculate"
   ]
  },
  {
   "cell_type": "code",
   "execution_count": 1,
   "metadata": {},
   "outputs": [],
   "source": [
    "from calculate import multiply_numbers"
   ]
  },
  {
   "cell_type": "code",
   "execution_count": 2,
   "metadata": {},
   "outputs": [
    {
     "data": {
      "text/plain": [
       "6"
      ]
     },
     "execution_count": 2,
     "metadata": {},
     "output_type": "execute_result"
    }
   ],
   "source": [
    "multiply_numbers(2,3)"
   ]
  },
  {
   "cell_type": "code",
   "execution_count": 3,
   "metadata": {},
   "outputs": [
    {
     "data": {
      "text/plain": [
       "27"
      ]
     },
     "execution_count": 3,
     "metadata": {},
     "output_type": "execute_result"
    }
   ],
   "source": [
    "multiply_numbers(3,9)"
   ]
  },
  {
   "cell_type": "code",
   "execution_count": 6,
   "metadata": {},
   "outputs": [
    {
     "data": {
      "text/plain": [
       "5"
      ]
     },
     "execution_count": 6,
     "metadata": {},
     "output_type": "execute_result"
    }
   ],
   "source": [
    "add_numbers(2,3)"
   ]
  },
  {
   "cell_type": "code",
   "execution_count": 5,
   "metadata": {},
   "outputs": [],
   "source": [
    "from calculate import add_numbers"
   ]
  },
  {
   "cell_type": "code",
   "execution_count": 9,
   "metadata": {},
   "outputs": [
    {
     "data": {
      "text/plain": [
       "0.6666666666666666"
      ]
     },
     "execution_count": 9,
     "metadata": {},
     "output_type": "execute_result"
    }
   ],
   "source": [
    "divide_numbers(2,3)"
   ]
  },
  {
   "cell_type": "code",
   "execution_count": 8,
   "metadata": {},
   "outputs": [],
   "source": [
    "from calculate import divide_numbers"
   ]
  },
  {
   "cell_type": "code",
   "execution_count": null,
   "metadata": {},
   "outputs": [],
   "source": []
  }
 ],
 "metadata": {
  "kernelspec": {
   "display_name": "Python 3",
   "language": "python",
   "name": "python3"
  },
  "language_info": {
   "codemirror_mode": {
    "name": "ipython",
    "version": 3
   },
   "file_extension": ".py",
   "mimetype": "text/x-python",
   "name": "python",
   "nbconvert_exporter": "python",
   "pygments_lexer": "ipython3",
   "version": "3.7.6"
  }
 },
 "nbformat": 4,
 "nbformat_minor": 4
}
