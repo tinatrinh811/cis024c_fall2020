{
 "cells": [
  {
   "cell_type": "markdown",
   "metadata": {},
   "source": [
    "## Homework 2 - Optional Exercises\n",
    "\n"
   ]
  },
  {
   "cell_type": "markdown",
   "metadata": {},
   "source": [
    "## OPTIONAL EXERCISES\n",
    "\n",
    "Below is a set of optional exercises. These will not be graded but the solutions will be posted. I would strongly encourage you to try these out if you are done with the mandatory homework exercises to improve your understanding of python."
   ]
  },
  {
   "cell_type": "markdown",
   "metadata": {},
   "source": [
    "#### Exercise 6\n",
    "\n",
    "Write a Python program to convert temperatures to and from celsius, fahrenheit.\n",
    "\n",
    "[ Formula : c = 5/9(f-32)  and f = 9c/5 + 32[ where c = temperature in celsius and f = temperature in fahrenheit ] "
   ]
  },
  {
   "cell_type": "code",
   "execution_count": 6,
   "metadata": {},
   "outputs": [
    {
     "name": "stdout",
     "output_type": "stream",
     "text": [
      "Enter temperature in Centigrade:32\n",
      "Temperature in Fahrenheit: 89.6\n",
      "Enter temperature in Fahrenheit:87\n",
      "Temperature in Centigrade: 30.555555555555557\n"
     ]
    }
   ],
   "source": [
    "### YOUR CODE GOES BELOW\n",
    "\n",
    "centigrade = float(input(\"Enter temperature in Centigrade:\"))\n",
    "fahrenheit = 9*centigrade/5 + 32\n",
    "\n",
    "print(\"Temperature in Fahrenheit:\", fahrenheit)\n",
    "\n",
    "fahrenheit = float(input(\"Enter temperature in Fahrenheit:\"))\n",
    "centigrade = (5.0/9.0)*(fahrenheit - 32)\n",
    "\n",
    "print(\"Temperature in Centigrade:\", centigrade)\n",
    "\n",
    "### END CODE"
   ]
  },
  {
   "cell_type": "markdown",
   "metadata": {},
   "source": [
    "#### Exercise 7\n",
    "\n",
    "Write a Python program that prints all the numbers from 0 to 10 except 1 and 5. Use the **for** loop"
   ]
  },
  {
   "cell_type": "code",
   "execution_count": 8,
   "metadata": {},
   "outputs": [
    {
     "name": "stdout",
     "output_type": "stream",
     "text": [
      "0\n",
      "2\n",
      "3\n",
      "4\n",
      "6\n",
      "7\n",
      "8\n",
      "9\n",
      "10\n"
     ]
    }
   ],
   "source": [
    "### YOUR CODE GOES BELOW\n",
    "\n",
    "for number in range(0,11):\n",
    "    \n",
    "    if number != 1 and number != 5:\n",
    "        print(number)\n",
    "        \n",
    "\n",
    "### END CODE"
   ]
  },
  {
   "cell_type": "markdown",
   "metadata": {},
   "source": [
    "#### Exercise 8\n",
    "\n",
    "Write a Python program that reads two integers representing a month and day and prints the season for that month and day. Refer to this URL https://www.timeanddate.com/calendar/aboutseasons.html for when a season starts and ends in North America (Northern Meteorological Seasons)"
   ]
  },
  {
   "cell_type": "code",
   "execution_count": 21,
   "metadata": {},
   "outputs": [
    {
     "name": "stdout",
     "output_type": "stream",
     "text": [
      "Enter the month:May\n",
      "Enter the day:30\n",
      "Season: Spring\n"
     ]
    }
   ],
   "source": [
    "### YOUR CODE GOES BELOW\n",
    "\n",
    "import sys\n",
    "\n",
    "seasons = {'spring':{'months':['March','April','May','June']},\n",
    "           'summer':{'months':['July','August','September']},\n",
    "           'fall'  :{'months':['October','November']},\n",
    "           'winter':{'months':['December','January','February']}\n",
    "           }\n",
    "\n",
    "valid_days = {'January':31,\n",
    "              'February':28,\n",
    "              'March':31,\n",
    "              'April':30,\n",
    "              'May':31,\n",
    "              'June':30,\n",
    "              'July':31,\n",
    "              'August':31,\n",
    "              'September':30,\n",
    "              'October':31,\n",
    "              'November':30,\n",
    "              'December':31}\n",
    "                               \n",
    "month = input(\"Enter the month:\")\n",
    "day = int(input(\"Enter the day:\"))\n",
    "\n",
    "season = \"Unknown\"\n",
    "\n",
    "try:\n",
    "    if day not in list(range(1,valid_days[month]+1)):\n",
    "        print(\"Invalid Day. Please make sure you entering the valid day for the month\")\n",
    "        print(\"Aborting..\")\n",
    "        sys.exit(-1)\n",
    "\n",
    "    if month in seasons['spring']['months']:\n",
    "        season = 'spring'\n",
    "    elif month in seasons['summer']['months']:\n",
    "        season = 'summer'\n",
    "    elif month in seasons['fall']['months']:\n",
    "        season = 'fall'\n",
    "    elif month in seasons['winter']['months']:\n",
    "        season = 'winter'\n",
    "    \n",
    "except Exception as error:\n",
    "    print(\"Exception encountered:\", error)\n",
    "    \n",
    "print(\"Season:\",season.capitalize()) \n",
    "\n",
    "### END CODE"
   ]
  },
  {
   "cell_type": "markdown",
   "metadata": {},
   "source": [
    "#### Exercise 9\n",
    "\n",
    "Use a **while** loop to ask the user to enter a number. Print a running total of all the numbers that the user enters. If the user enters 0, break from the while loop."
   ]
  },
  {
   "cell_type": "code",
   "execution_count": 24,
   "metadata": {},
   "outputs": [
    {
     "name": "stdout",
     "output_type": "stream",
     "text": [
      "Enter the number (Enter -1 to end):3\n",
      "Running total: 3\n",
      "Enter the number (Enter -1 to end):4\n",
      "Running total: 7\n",
      "Enter the number (Enter -1 to end):5\n",
      "Running total: 12\n",
      "Enter the number (Enter -1 to end):-1\n"
     ]
    }
   ],
   "source": [
    "### YOUR CODE GOES BELOW\n",
    "\n",
    "total = 0\n",
    "while True:\n",
    "    \n",
    "    number = int(input(\"Enter the number (Enter -1 to end):\"))\n",
    "    if number == -1:\n",
    "        break\n",
    "    \n",
    "    total += number\n",
    "    \n",
    "    print(\"Running total:\",total)\n",
    "\n",
    "\n",
    "### END CODE"
   ]
  },
  {
   "cell_type": "markdown",
   "metadata": {},
   "source": [
    "#### Exercise 10\n",
    "\n",
    "Write a Python program to create the multiplication table (from 1 to 10) of a number. Use the formatted print statements that you learnt in Week 2 and the **for** loop to print this table.\n",
    "\n",
    "Input a number: 6                                                       \n",
    "6 x 1 = 6                                                               \n",
    "6 x 2 = 12                                                              \n",
    "6 x 3 = 18                                                              \n",
    "6 x 4 = 24                                                              \n",
    "6 x 5 = 30                                                              \n",
    "6 x 6 = 36                                                              \n",
    "6 x 7 = 42                                                              \n",
    "6 x 8 = 48                                                              \n",
    "6 x 9 = 54                                                              \n",
    "6 x 10 = 60 "
   ]
  },
  {
   "cell_type": "code",
   "execution_count": 27,
   "metadata": {},
   "outputs": [
    {
     "name": "stdout",
     "output_type": "stream",
     "text": [
      "Enter a number:7\n",
      "Tables:\n",
      "*******\n",
      " 7 X  0 =    0\n",
      " 7 X  1 =    7\n",
      " 7 X  2 =   14\n",
      " 7 X  3 =   21\n",
      " 7 X  4 =   28\n",
      " 7 X  5 =   35\n",
      " 7 X  6 =   42\n",
      " 7 X  7 =   49\n",
      " 7 X  8 =   56\n",
      " 7 X  9 =   63\n",
      " 7 X 10 =   70\n"
     ]
    }
   ],
   "source": [
    "### YOUR CODE GOES BELOW\n",
    "\n",
    "number = int(input(\"Enter a number:\"))\n",
    "\n",
    "print(\"Tables:\")\n",
    "print(\"*******\")\n",
    "for i in range(11):\n",
    "    \n",
    "    print(\"%2d X %2d = %4d\" % (number,i,number*i))\n",
    "\n",
    "### END CODE"
   ]
  },
  {
   "cell_type": "code",
   "execution_count": null,
   "metadata": {},
   "outputs": [],
   "source": []
  }
 ],
 "metadata": {
  "kernelspec": {
   "display_name": "Python 3",
   "language": "python",
   "name": "python3"
  },
  "language_info": {
   "codemirror_mode": {
    "name": "ipython",
    "version": 3
   },
   "file_extension": ".py",
   "mimetype": "text/x-python",
   "name": "python",
   "nbconvert_exporter": "python",
   "pygments_lexer": "ipython3",
   "version": "3.7.6"
  }
 },
 "nbformat": 4,
 "nbformat_minor": 2
}
