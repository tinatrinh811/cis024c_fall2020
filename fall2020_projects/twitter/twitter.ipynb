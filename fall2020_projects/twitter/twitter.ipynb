{
 "cells": [
  {
   "cell_type": "markdown",
   "metadata": {},
   "source": [
    "# CIS-024C Fall 2020 - Twitter Project "
   ]
  },
  {
   "cell_type": "markdown",
   "metadata": {
    "collapsed": true
   },
   "source": [
    "### Use the Twitter library tweepy to retrieve a set of tweets from the internet.\n",
    "\n",
    "Once you have read the tweets in your program, implement the following\n",
    "\n",
    "1. Set filters on 4 of your favorite politicians and create a pie chart showing how many tweets of each of them you were able to gather in a 4 hour period.\n",
    "2. Create a bar chart showing the number of tweets each politician received during each of the 4 hours.\n",
    "More information on how to do this can be found here\n",
    "\n",
    "http://docs.tweepy.org/en/v3.5.0/\n",
    "\n",
    "Total Points: 100\n",
    "\n",
    "#### Rubric:\n",
    "1. Reading in tweets and setting the right filters - 40 points\n",
    "2. Create a pie chart showing how many tweets of each of them you were able to gather in a 4 hour period - 30 points\n",
    "3.  Create a bar chart showing the number of tweets each politician received during each of the 4 hours - 30 points"
   ]
  },
  {
   "cell_type": "code",
   "execution_count": null,
   "metadata": {},
   "outputs": [],
   "source": [
    "### YOUR CODE GOES BELOW\n",
    "\n",
    "#See https://nocodewebscraping.com/twitter-json-examples/\n",
    "# To get keys - https://apps.twitter.com\n",
    "# To install tweepy use 'pip install tweepy'\n",
    "\n",
    "consumer_key = ''\n",
    "consumer_secret = ''\n",
    "access_token = ''\n",
    "access_token_secret = ''\n",
    "\n",
    "import tweepy #https://github.com/tweepy/tweepy\n",
    "import json\n",
    "\n",
    "# This is the listener, resposible for receiving data\n",
    "class StdOutListener(tweepy.StreamListener):\n",
    "    \n",
    "    def __init__(self, f):\n",
    "        super(StdOutListener, self).__init__()\n",
    "        self._f = f\n",
    "        \n",
    "    def on_data(self, data):\n",
    "        \n",
    "        self._f.write(data)\n",
    "        \n",
    "    def on_status(self,status):\n",
    "        \n",
    "        print(status)\n",
    "        self._f.write(status.text)\n",
    "\n",
    "        '''\n",
    "        decoded = json.loads(data)\n",
    "        #open a file to store the status objects\n",
    "        file = open('./stream.json', 'a')  \n",
    "        #write json to file\n",
    "        json.dump(decoded,file,sort_keys = True,indent = 4)\n",
    "        #show progress\n",
    "        print(\"Writing tweets to file,CTRL+C to terminate the program\")\n",
    "        '''\n",
    "\n",
    "        return True\n",
    "\n",
    "    def on_error(self, status):\n",
    "        printf(status)\n",
    "        self._f.write(status.text)\n",
    "\n",
    "if __name__ == '__main__':\n",
    "\n",
    "    auth = tweepy.OAuthHandler(consumer_key, consumer_secret)\n",
    "    auth.set_access_token(access_token, access_token_secret)\n",
    "\n",
    "    # There are different kinds of streams: public stream, user stream, multi-user streams\n",
    "    # For more details refer to https://dev.twitter.com/docs/streaming-apis\n",
    "    \n",
    "    with open('./stream.json','w') as f:\n",
    "        \n",
    "        # initialize listener and pass in file handle\n",
    "        l = StdOutListener(f)\n",
    "        \n",
    "        # create stream object\n",
    "        stream = tweepy.Stream(auth, l)\n",
    "        \n",
    "        #Hashtag to filter\n",
    "        stream.filter(track=[\"#georgia\"])\n",
    "\n",
    "### END CODE"
   ]
  },
  {
   "cell_type": "code",
   "execution_count": null,
   "metadata": {},
   "outputs": [],
   "source": [
    "## Read JSON data from file\n",
    "\n",
    "import json\n",
    "\n",
    "tweetsList = []\n",
    "\n",
    "with open('./stream.json') as f:\n",
    "    for jsonObj in f:\n",
    "        tweetDict = json.loads(jsonObj)\n",
    "        tweetsList.append(tweetDict)\n",
    "\n",
    "print(\"Displaying Tweets:\\n\")\n",
    "print(\"Number of Tweets in list:\", len(tweetsList))\n",
    "for tweet in tweetsList:\n",
    "    print(\"\\n Tweet Id:%d\\n Favorite Count:%d \\n Retweet Count:%d\\n Text: %s\\n Timestamp:%s\" %\\\n",
    "          (tweet[\"id\"],  tweet[\"favorite_count\"], tweet[\"retweet_count\"], tweet[\"text\"][:100],tweet[\"timestamp_ms\"])\\\n",
    "         )"
   ]
  },
  {
   "cell_type": "code",
   "execution_count": null,
   "metadata": {},
   "outputs": [],
   "source": []
  }
 ],
 "metadata": {
  "kernelspec": {
   "display_name": "Python 3",
   "language": "python",
   "name": "python3"
  },
  "language_info": {
   "codemirror_mode": {
    "name": "ipython",
    "version": 3
   },
   "file_extension": ".py",
   "mimetype": "text/x-python",
   "name": "python",
   "nbconvert_exporter": "python",
   "pygments_lexer": "ipython3",
   "version": "3.7.6"
  }
 },
 "nbformat": 4,
 "nbformat_minor": 1
}
